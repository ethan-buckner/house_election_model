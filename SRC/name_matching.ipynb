{
 "cells": [
  {
   "cell_type": "code",
   "execution_count": 101,
   "metadata": {
    "collapsed": true
   },
   "outputs": [],
   "source": [
    "import pandas as pd\n",
    "import numpy as np\n",
    "import re\n",
    "import unicodedata"
   ]
  },
  {
   "cell_type": "code",
   "execution_count": 102,
   "outputs": [
    {
     "data": {
      "text/plain": "      unaccentedGivenName unaccentedFamilyName  congressNumber stateName  \\\n0                    NEIL          ABERCROMBIE              99        HI   \n1                    NEIL          ABERCROMBIE             102        HI   \n2                    NEIL          ABERCROMBIE             103        HI   \n3                    NEIL          ABERCROMBIE             104        HI   \n4                    NEIL          ABERCROMBIE             105        HI   \n...                   ...                  ...             ...       ...   \n13787                RYAN                ZINKE             114        MT   \n13788                RYAN                ZINKE             115        MT   \n13789                RYAN                ZINKE             118        MT   \n13790               EDWIN               ZSCHAU              98        CA   \n13791               EDWIN               ZSCHAU              99        CA   \n\n              parties  electionYear  ageDuringElection  \n0        ['Democrat']          1984                 46  \n1        ['Democrat']          1990                 52  \n2        ['Democrat']          1992                 54  \n3        ['Democrat']          1994                 56  \n4        ['Democrat']          1996                 58  \n...               ...           ...                ...  \n13787  ['Republican']          2014                 53  \n13788  ['Republican']          2016                 55  \n13789  ['Republican']          2022                 61  \n13790  ['Republican']          1982                 42  \n13791  ['Republican']          1984                 44  \n\n[13792 rows x 7 columns]",
      "text/html": "<div>\n<style scoped>\n    .dataframe tbody tr th:only-of-type {\n        vertical-align: middle;\n    }\n\n    .dataframe tbody tr th {\n        vertical-align: top;\n    }\n\n    .dataframe thead th {\n        text-align: right;\n    }\n</style>\n<table border=\"1\" class=\"dataframe\">\n  <thead>\n    <tr style=\"text-align: right;\">\n      <th></th>\n      <th>unaccentedGivenName</th>\n      <th>unaccentedFamilyName</th>\n      <th>congressNumber</th>\n      <th>stateName</th>\n      <th>parties</th>\n      <th>electionYear</th>\n      <th>ageDuringElection</th>\n    </tr>\n  </thead>\n  <tbody>\n    <tr>\n      <th>0</th>\n      <td>NEIL</td>\n      <td>ABERCROMBIE</td>\n      <td>99</td>\n      <td>HI</td>\n      <td>['Democrat']</td>\n      <td>1984</td>\n      <td>46</td>\n    </tr>\n    <tr>\n      <th>1</th>\n      <td>NEIL</td>\n      <td>ABERCROMBIE</td>\n      <td>102</td>\n      <td>HI</td>\n      <td>['Democrat']</td>\n      <td>1990</td>\n      <td>52</td>\n    </tr>\n    <tr>\n      <th>2</th>\n      <td>NEIL</td>\n      <td>ABERCROMBIE</td>\n      <td>103</td>\n      <td>HI</td>\n      <td>['Democrat']</td>\n      <td>1992</td>\n      <td>54</td>\n    </tr>\n    <tr>\n      <th>3</th>\n      <td>NEIL</td>\n      <td>ABERCROMBIE</td>\n      <td>104</td>\n      <td>HI</td>\n      <td>['Democrat']</td>\n      <td>1994</td>\n      <td>56</td>\n    </tr>\n    <tr>\n      <th>4</th>\n      <td>NEIL</td>\n      <td>ABERCROMBIE</td>\n      <td>105</td>\n      <td>HI</td>\n      <td>['Democrat']</td>\n      <td>1996</td>\n      <td>58</td>\n    </tr>\n    <tr>\n      <th>...</th>\n      <td>...</td>\n      <td>...</td>\n      <td>...</td>\n      <td>...</td>\n      <td>...</td>\n      <td>...</td>\n      <td>...</td>\n    </tr>\n    <tr>\n      <th>13787</th>\n      <td>RYAN</td>\n      <td>ZINKE</td>\n      <td>114</td>\n      <td>MT</td>\n      <td>['Republican']</td>\n      <td>2014</td>\n      <td>53</td>\n    </tr>\n    <tr>\n      <th>13788</th>\n      <td>RYAN</td>\n      <td>ZINKE</td>\n      <td>115</td>\n      <td>MT</td>\n      <td>['Republican']</td>\n      <td>2016</td>\n      <td>55</td>\n    </tr>\n    <tr>\n      <th>13789</th>\n      <td>RYAN</td>\n      <td>ZINKE</td>\n      <td>118</td>\n      <td>MT</td>\n      <td>['Republican']</td>\n      <td>2022</td>\n      <td>61</td>\n    </tr>\n    <tr>\n      <th>13790</th>\n      <td>EDWIN</td>\n      <td>ZSCHAU</td>\n      <td>98</td>\n      <td>CA</td>\n      <td>['Republican']</td>\n      <td>1982</td>\n      <td>42</td>\n    </tr>\n    <tr>\n      <th>13791</th>\n      <td>EDWIN</td>\n      <td>ZSCHAU</td>\n      <td>99</td>\n      <td>CA</td>\n      <td>['Republican']</td>\n      <td>1984</td>\n      <td>44</td>\n    </tr>\n  </tbody>\n</table>\n<p>13792 rows × 7 columns</p>\n</div>"
     },
     "execution_count": 102,
     "metadata": {},
     "output_type": "execute_result"
    }
   ],
   "source": [
    "biographic = pd.read_csv(\"../DATA/house_biographic.csv\")\n",
    "elections = pd.read_csv(\"../DATA/house_clean_new.csv\")\n",
    "biographic = biographic[[\n",
    "    'unaccentedGivenName',\n",
    "    'unaccentedFamilyName',\n",
    "    'congressNumber',\n",
    "    'stateName',\n",
    "    'parties',\n",
    "    'electionYear',\n",
    "    'ageDuringElection'\n",
    "]]\n",
    "biographic['unaccentedGivenName'] = biographic['unaccentedGivenName'].str.upper()\n",
    "biographic['unaccentedFamilyName'] = biographic['unaccentedFamilyName'].str.upper()\n",
    "biographic"
   ],
   "metadata": {
    "collapsed": false
   }
  },
  {
   "cell_type": "markdown",
   "source": [],
   "metadata": {
    "collapsed": false
   }
  },
  {
   "cell_type": "code",
   "execution_count": 103,
   "outputs": [],
   "source": [
    "def name_to_abbreviation(name):\n",
    "    abbrev = {\n",
    "        \"Alabama\": \"AL\",\n",
    "        \"Alaska\": \"AK\",\n",
    "        \"Arizona\": \"AZ\",\n",
    "        \"Arkansas\": \"AR\",\n",
    "        \"California\": \"CA\",\n",
    "        \"Colorado\": \"CO\",\n",
    "        \"Connecticut\": \"CT\",\n",
    "        \"Delaware\": \"DE\",\n",
    "        \"Florida\": \"FL\",\n",
    "        \"Georgia\": \"GA\",\n",
    "        \"Hawaii\": \"HI\",\n",
    "        \"Idaho\": \"ID\",\n",
    "        \"Illinois\": \"IL\",\n",
    "        \"Indiana\": \"IN\",\n",
    "        \"Iowa\": \"IA\",\n",
    "        \"Kansas\": \"KS\",\n",
    "        \"Kentucky\": \"KY\",\n",
    "        \"Louisiana\": \"LA\",\n",
    "        \"Maine\": \"ME\",\n",
    "        \"Maryland\": \"MD\",\n",
    "        \"Massachusetts\": \"MA\",\n",
    "        \"Michigan\": \"MI\",\n",
    "        \"Minnesota\": \"MN\",\n",
    "        \"Mississippi\": \"MS\",\n",
    "        \"Missouri\": \"MO\",\n",
    "        \"Montana\": \"MT\",\n",
    "        \"Nebraska\": \"NE\",\n",
    "        \"Nevada\": \"NV\",\n",
    "        \"New Hampshire\": \"NH\",\n",
    "        \"New Jersey\": \"NJ\",\n",
    "        \"New Mexico\": \"NM\",\n",
    "        \"New York\": \"NY\",\n",
    "        \"North Carolina\": \"NC\",\n",
    "        \"North Dakota\": \"ND\",\n",
    "        \"Ohio\": \"OH\",\n",
    "        \"Oklahoma\": \"OK\",\n",
    "        \"Oregon\": \"OR\",\n",
    "        \"Pennsylvania\": \"PA\",\n",
    "        \"Rhode Island\": \"RI\",\n",
    "        \"South Carolina\": \"SC\",\n",
    "        \"South Dakota\": \"SD\",\n",
    "        \"Tennessee\": \"TN\",\n",
    "        \"Texas\": \"TX\",\n",
    "        \"Utah\": \"UT\",\n",
    "        \"Vermont\": \"VT\",\n",
    "        \"Virginia\": \"VA\",\n",
    "        \"Washington\": \"WA\",\n",
    "        \"West Virginia\": \"WV\",\n",
    "        \"Wisconsin\": \"WI\",\n",
    "        \"Wyoming\": \"WY\",\n",
    "        \"District of Columbia\": \"DC\",\n",
    "        \"American Samoa\": \"AS\",\n",
    "        \"Guam\": \"GU\",\n",
    "        \"Northern Mariana Islands\": \"MP\",\n",
    "        \"Puerto Rico\": \"PR\",\n",
    "        \"United States Minor Outlying Islands\": \"UM\",\n",
    "        \"U.S. Virgin Islands\": \"VI\",\n",
    "    }\n",
    "    return abbrev[name.title()]"
   ],
   "metadata": {
    "collapsed": false
   }
  },
  {
   "cell_type": "code",
   "execution_count": 104,
   "outputs": [
    {
     "data": {
      "text/plain": "      year state  district  democrat_votes  republican_votes  totalvotes  \\\n0     1976    AL         1           58906             98257      157170   \n1     1976    AL         2           66288             90069      156362   \n2     1976    AL         4          141490             34531      176022   \n3     1976    AL         6           69384             92113      162518   \n4     1976    AK         0           34194             83722      118208   \n...    ...   ...       ...             ...               ...         ...   \n8975  2022    WI         3          152977            164743      317922   \n8976  2022    WI         4          191955             57660      255012   \n8977  2022    WI         5          134581            243741      378523   \n8978  2022    WI         7          128877            209224      338268   \n8979  2022    WY         0           47250            132206      198198   \n\n       democrat_candidate        republican_candidate      winner  \\\n0          BILL DAVENPORT                JACK EDWARDS  Republican   \n1         J CAROLE KEAHEY  WILLIAM L \"BILL\" DICKINSON  Republican   \n2              TOM BEVILL              LEONARD WILSON    Democrat   \n3              MEL BAILEY          JOHN H BUCHANAN JR  Republican   \n4             EBEN HOPSON                   DON YOUNG  Republican   \n...                   ...                         ...         ...   \n8975           BRAD PFAFF           DERRICK VAN ORDEN  Republican   \n8976           GWEN MOORE                  TIM ROGERS    Democrat   \n8977     MIKE VAN SOMEREN            SCOTT FITZGERALD  Republican   \n8978  RICHARD DICK AUSMAN            THOMAS P TIFFANY  Republican   \n8979    LYNNETTE GREYBULL             HARRIET HAGEMAN  Republican   \n\n      winner_percentage  excess_dem_votes  total_demrep_votes  dem_margin  \n0              0.625164            -39351              157163   -0.250383  \n1              0.576029            -23781              156357   -0.152094  \n2              0.803820            106959              176021    0.607649  \n3              0.566786            -22729              161497   -0.140739  \n4              0.708260            -49528              117916   -0.420028  \n...                 ...               ...                 ...         ...  \n8975           0.518187            -11766              317720   -0.037033  \n8976           0.752729            134295              249615    0.538009  \n8977           0.643927           -109160              378322   -0.288537  \n8978           0.618515            -80347              338101   -0.237642  \n8979           0.667040            -84956              179456   -0.473409  \n\n[8980 rows x 13 columns]",
      "text/html": "<div>\n<style scoped>\n    .dataframe tbody tr th:only-of-type {\n        vertical-align: middle;\n    }\n\n    .dataframe tbody tr th {\n        vertical-align: top;\n    }\n\n    .dataframe thead th {\n        text-align: right;\n    }\n</style>\n<table border=\"1\" class=\"dataframe\">\n  <thead>\n    <tr style=\"text-align: right;\">\n      <th></th>\n      <th>year</th>\n      <th>state</th>\n      <th>district</th>\n      <th>democrat_votes</th>\n      <th>republican_votes</th>\n      <th>totalvotes</th>\n      <th>democrat_candidate</th>\n      <th>republican_candidate</th>\n      <th>winner</th>\n      <th>winner_percentage</th>\n      <th>excess_dem_votes</th>\n      <th>total_demrep_votes</th>\n      <th>dem_margin</th>\n    </tr>\n  </thead>\n  <tbody>\n    <tr>\n      <th>0</th>\n      <td>1976</td>\n      <td>AL</td>\n      <td>1</td>\n      <td>58906</td>\n      <td>98257</td>\n      <td>157170</td>\n      <td>BILL DAVENPORT</td>\n      <td>JACK EDWARDS</td>\n      <td>Republican</td>\n      <td>0.625164</td>\n      <td>-39351</td>\n      <td>157163</td>\n      <td>-0.250383</td>\n    </tr>\n    <tr>\n      <th>1</th>\n      <td>1976</td>\n      <td>AL</td>\n      <td>2</td>\n      <td>66288</td>\n      <td>90069</td>\n      <td>156362</td>\n      <td>J CAROLE KEAHEY</td>\n      <td>WILLIAM L \"BILL\" DICKINSON</td>\n      <td>Republican</td>\n      <td>0.576029</td>\n      <td>-23781</td>\n      <td>156357</td>\n      <td>-0.152094</td>\n    </tr>\n    <tr>\n      <th>2</th>\n      <td>1976</td>\n      <td>AL</td>\n      <td>4</td>\n      <td>141490</td>\n      <td>34531</td>\n      <td>176022</td>\n      <td>TOM BEVILL</td>\n      <td>LEONARD WILSON</td>\n      <td>Democrat</td>\n      <td>0.803820</td>\n      <td>106959</td>\n      <td>176021</td>\n      <td>0.607649</td>\n    </tr>\n    <tr>\n      <th>3</th>\n      <td>1976</td>\n      <td>AL</td>\n      <td>6</td>\n      <td>69384</td>\n      <td>92113</td>\n      <td>162518</td>\n      <td>MEL BAILEY</td>\n      <td>JOHN H BUCHANAN JR</td>\n      <td>Republican</td>\n      <td>0.566786</td>\n      <td>-22729</td>\n      <td>161497</td>\n      <td>-0.140739</td>\n    </tr>\n    <tr>\n      <th>4</th>\n      <td>1976</td>\n      <td>AK</td>\n      <td>0</td>\n      <td>34194</td>\n      <td>83722</td>\n      <td>118208</td>\n      <td>EBEN HOPSON</td>\n      <td>DON YOUNG</td>\n      <td>Republican</td>\n      <td>0.708260</td>\n      <td>-49528</td>\n      <td>117916</td>\n      <td>-0.420028</td>\n    </tr>\n    <tr>\n      <th>...</th>\n      <td>...</td>\n      <td>...</td>\n      <td>...</td>\n      <td>...</td>\n      <td>...</td>\n      <td>...</td>\n      <td>...</td>\n      <td>...</td>\n      <td>...</td>\n      <td>...</td>\n      <td>...</td>\n      <td>...</td>\n      <td>...</td>\n    </tr>\n    <tr>\n      <th>8975</th>\n      <td>2022</td>\n      <td>WI</td>\n      <td>3</td>\n      <td>152977</td>\n      <td>164743</td>\n      <td>317922</td>\n      <td>BRAD PFAFF</td>\n      <td>DERRICK VAN ORDEN</td>\n      <td>Republican</td>\n      <td>0.518187</td>\n      <td>-11766</td>\n      <td>317720</td>\n      <td>-0.037033</td>\n    </tr>\n    <tr>\n      <th>8976</th>\n      <td>2022</td>\n      <td>WI</td>\n      <td>4</td>\n      <td>191955</td>\n      <td>57660</td>\n      <td>255012</td>\n      <td>GWEN MOORE</td>\n      <td>TIM ROGERS</td>\n      <td>Democrat</td>\n      <td>0.752729</td>\n      <td>134295</td>\n      <td>249615</td>\n      <td>0.538009</td>\n    </tr>\n    <tr>\n      <th>8977</th>\n      <td>2022</td>\n      <td>WI</td>\n      <td>5</td>\n      <td>134581</td>\n      <td>243741</td>\n      <td>378523</td>\n      <td>MIKE VAN SOMEREN</td>\n      <td>SCOTT FITZGERALD</td>\n      <td>Republican</td>\n      <td>0.643927</td>\n      <td>-109160</td>\n      <td>378322</td>\n      <td>-0.288537</td>\n    </tr>\n    <tr>\n      <th>8978</th>\n      <td>2022</td>\n      <td>WI</td>\n      <td>7</td>\n      <td>128877</td>\n      <td>209224</td>\n      <td>338268</td>\n      <td>RICHARD DICK AUSMAN</td>\n      <td>THOMAS P TIFFANY</td>\n      <td>Republican</td>\n      <td>0.618515</td>\n      <td>-80347</td>\n      <td>338101</td>\n      <td>-0.237642</td>\n    </tr>\n    <tr>\n      <th>8979</th>\n      <td>2022</td>\n      <td>WY</td>\n      <td>0</td>\n      <td>47250</td>\n      <td>132206</td>\n      <td>198198</td>\n      <td>LYNNETTE GREYBULL</td>\n      <td>HARRIET HAGEMAN</td>\n      <td>Republican</td>\n      <td>0.667040</td>\n      <td>-84956</td>\n      <td>179456</td>\n      <td>-0.473409</td>\n    </tr>\n  </tbody>\n</table>\n<p>8980 rows × 13 columns</p>\n</div>"
     },
     "execution_count": 104,
     "metadata": {},
     "output_type": "execute_result"
    }
   ],
   "source": [
    "elections['state'] = elections['state'].apply(name_to_abbreviation)\n",
    "elections"
   ],
   "metadata": {
    "collapsed": false
   }
  },
  {
   "cell_type": "code",
   "execution_count": 105,
   "outputs": [],
   "source": [
    "def extract_last_name(full_name):\n",
    "    name_tokens = re.split(r'[ -]', full_name)\n",
    "    name_tokens = [re.sub(r'[,\".]', \"\", unicodedata.normalize('NFKD', token)) for token in name_tokens]\n",
    "    if name_tokens[-1] in (\"JR\", \"SR\", \"I\", \"II\", \"III\", \"IV\", \"IIII\", \"V\", \"JR.\", \"SR.\"):\n",
    "        name_tokens = name_tokens[:-1]\n",
    "    if len(name_tokens) > 2 and len(name_tokens[-2]) > 1 and '\\\"' not in name_tokens[-2] and '”' not in name_tokens[\n",
    "        -2] and name_tokens[-2] != \"\":\n",
    "        return [name_tokens[-2], name_tokens[-1]]\n",
    "    return [name_tokens[-1]]\n",
    "\n",
    "def extract_first_name(full_name):\n",
    "    name_tokens = re.split(r'[ -]', full_name)\n",
    "    name_tokens = [re.sub(r'[,.]', \"\", unicodedata.normalize('NFKD', token)) for token in name_tokens]\n",
    "    if name_tokens[-1] in (\"JR\", \"SR\", \"I\", \"II\", \"III\", \"IV\", \"IIII\", \"V\", \"JR.\", \"SR.\"):\n",
    "        name_tokens = name_tokens[:-1]\n",
    "    names = []\n",
    "    if len(name_tokens) < 3:\n",
    "        names.append(name_tokens[0])\n",
    "    elif len(name_tokens[1]) > 1 or (len(name_tokens[0]) == 1 and len(name_tokens[1]) == 1):\n",
    "        names += [name_tokens[0], name_tokens[1]]\n",
    "    else:\n",
    "        names.append(name_tokens[0])\n",
    "    for token in name_tokens:\n",
    "        if '\"' in token and token not in names:\n",
    "            names.append(token)\n",
    "    names = [re.sub(r'\"', \"\", name) for name in names]\n",
    "    return names"
   ],
   "metadata": {
    "collapsed": false
   }
  },
  {
   "cell_type": "code",
   "execution_count": 106,
   "outputs": [
    {
     "data": {
      "text/plain": "            republican_candidate   rep_first_name      rep_last_name  \\\n0                   JACK EDWARDS           [JACK]          [EDWARDS]   \n1     WILLIAM L \"BILL\" DICKINSON  [WILLIAM, BILL]  [BILL, DICKINSON]   \n2                 LEONARD WILSON        [LEONARD]           [WILSON]   \n3             JOHN H BUCHANAN JR           [JOHN]         [BUCHANAN]   \n4                      DON YOUNG            [DON]            [YOUNG]   \n...                          ...              ...                ...   \n8975           DERRICK VAN ORDEN   [DERRICK, VAN]       [VAN, ORDEN]   \n8976                  TIM ROGERS            [TIM]           [ROGERS]   \n8977            SCOTT FITZGERALD          [SCOTT]       [FITZGERALD]   \n8978            THOMAS P TIFFANY         [THOMAS]          [TIFFANY]   \n8979             HARRIET HAGEMAN        [HARRIET]          [HAGEMAN]   \n\n       democrat_candidate   dem_first_name     dem_last_name  \n0          BILL DAVENPORT           [BILL]       [DAVENPORT]  \n1         J CAROLE KEAHEY      [J, CAROLE]  [CAROLE, KEAHEY]  \n2              TOM BEVILL            [TOM]          [BEVILL]  \n3              MEL BAILEY            [MEL]          [BAILEY]  \n4             EBEN HOPSON           [EBEN]          [HOPSON]  \n...                   ...              ...               ...  \n8975           BRAD PFAFF           [BRAD]           [PFAFF]  \n8976           GWEN MOORE           [GWEN]           [MOORE]  \n8977     MIKE VAN SOMEREN      [MIKE, VAN]    [VAN, SOMEREN]  \n8978  RICHARD DICK AUSMAN  [RICHARD, DICK]    [DICK, AUSMAN]  \n8979    LYNNETTE GREYBULL       [LYNNETTE]        [GREYBULL]  \n\n[8980 rows x 6 columns]",
      "text/html": "<div>\n<style scoped>\n    .dataframe tbody tr th:only-of-type {\n        vertical-align: middle;\n    }\n\n    .dataframe tbody tr th {\n        vertical-align: top;\n    }\n\n    .dataframe thead th {\n        text-align: right;\n    }\n</style>\n<table border=\"1\" class=\"dataframe\">\n  <thead>\n    <tr style=\"text-align: right;\">\n      <th></th>\n      <th>republican_candidate</th>\n      <th>rep_first_name</th>\n      <th>rep_last_name</th>\n      <th>democrat_candidate</th>\n      <th>dem_first_name</th>\n      <th>dem_last_name</th>\n    </tr>\n  </thead>\n  <tbody>\n    <tr>\n      <th>0</th>\n      <td>JACK EDWARDS</td>\n      <td>[JACK]</td>\n      <td>[EDWARDS]</td>\n      <td>BILL DAVENPORT</td>\n      <td>[BILL]</td>\n      <td>[DAVENPORT]</td>\n    </tr>\n    <tr>\n      <th>1</th>\n      <td>WILLIAM L \"BILL\" DICKINSON</td>\n      <td>[WILLIAM, BILL]</td>\n      <td>[BILL, DICKINSON]</td>\n      <td>J CAROLE KEAHEY</td>\n      <td>[J, CAROLE]</td>\n      <td>[CAROLE, KEAHEY]</td>\n    </tr>\n    <tr>\n      <th>2</th>\n      <td>LEONARD WILSON</td>\n      <td>[LEONARD]</td>\n      <td>[WILSON]</td>\n      <td>TOM BEVILL</td>\n      <td>[TOM]</td>\n      <td>[BEVILL]</td>\n    </tr>\n    <tr>\n      <th>3</th>\n      <td>JOHN H BUCHANAN JR</td>\n      <td>[JOHN]</td>\n      <td>[BUCHANAN]</td>\n      <td>MEL BAILEY</td>\n      <td>[MEL]</td>\n      <td>[BAILEY]</td>\n    </tr>\n    <tr>\n      <th>4</th>\n      <td>DON YOUNG</td>\n      <td>[DON]</td>\n      <td>[YOUNG]</td>\n      <td>EBEN HOPSON</td>\n      <td>[EBEN]</td>\n      <td>[HOPSON]</td>\n    </tr>\n    <tr>\n      <th>...</th>\n      <td>...</td>\n      <td>...</td>\n      <td>...</td>\n      <td>...</td>\n      <td>...</td>\n      <td>...</td>\n    </tr>\n    <tr>\n      <th>8975</th>\n      <td>DERRICK VAN ORDEN</td>\n      <td>[DERRICK, VAN]</td>\n      <td>[VAN, ORDEN]</td>\n      <td>BRAD PFAFF</td>\n      <td>[BRAD]</td>\n      <td>[PFAFF]</td>\n    </tr>\n    <tr>\n      <th>8976</th>\n      <td>TIM ROGERS</td>\n      <td>[TIM]</td>\n      <td>[ROGERS]</td>\n      <td>GWEN MOORE</td>\n      <td>[GWEN]</td>\n      <td>[MOORE]</td>\n    </tr>\n    <tr>\n      <th>8977</th>\n      <td>SCOTT FITZGERALD</td>\n      <td>[SCOTT]</td>\n      <td>[FITZGERALD]</td>\n      <td>MIKE VAN SOMEREN</td>\n      <td>[MIKE, VAN]</td>\n      <td>[VAN, SOMEREN]</td>\n    </tr>\n    <tr>\n      <th>8978</th>\n      <td>THOMAS P TIFFANY</td>\n      <td>[THOMAS]</td>\n      <td>[TIFFANY]</td>\n      <td>RICHARD DICK AUSMAN</td>\n      <td>[RICHARD, DICK]</td>\n      <td>[DICK, AUSMAN]</td>\n    </tr>\n    <tr>\n      <th>8979</th>\n      <td>HARRIET HAGEMAN</td>\n      <td>[HARRIET]</td>\n      <td>[HAGEMAN]</td>\n      <td>LYNNETTE GREYBULL</td>\n      <td>[LYNNETTE]</td>\n      <td>[GREYBULL]</td>\n    </tr>\n  </tbody>\n</table>\n<p>8980 rows × 6 columns</p>\n</div>"
     },
     "execution_count": 106,
     "metadata": {},
     "output_type": "execute_result"
    }
   ],
   "source": [
    "elections['dem_last_name'] = elections['democrat_candidate'].apply(extract_last_name)\n",
    "elections['rep_last_name'] = elections['republican_candidate'].apply(extract_last_name)\n",
    "elections['dem_first_name'] = elections['democrat_candidate'].apply(extract_first_name)\n",
    "elections['rep_first_name'] = elections['republican_candidate'].apply(extract_first_name)\n",
    "elections[['republican_candidate', 'rep_first_name', 'rep_last_name', 'democrat_candidate', 'dem_first_name', 'dem_last_name']]"
   ],
   "metadata": {
    "collapsed": false
   }
  },
  {
   "cell_type": "code",
   "execution_count": 107,
   "outputs": [
    {
     "data": {
      "text/plain": "      unaccentedGivenName first_names unaccentedFamilyName       last_names\n1305         BARBARA-ROSE   [BARBARA]              COLLINS        [COLLINS]\n1306         BARBARA-ROSE   [BARBARA]              COLLINS        [COLLINS]\n1307         BARBARA-ROSE   [BARBARA]              COLLINS        [COLLINS]\n6057                C. A.         [C]        RUPPERSBERGER  [RUPPERSBERGER]\n6058                C. A.         [C]        RUPPERSBERGER  [RUPPERSBERGER]\n6059                C. A.         [C]        RUPPERSBERGER  [RUPPERSBERGER]\n6060                C. A.         [C]        RUPPERSBERGER  [RUPPERSBERGER]\n6061                C. A.         [C]        RUPPERSBERGER  [RUPPERSBERGER]\n6062                C. A.         [C]        RUPPERSBERGER  [RUPPERSBERGER]\n6063                C. A.         [C]        RUPPERSBERGER  [RUPPERSBERGER]\n6064                C. A.         [C]        RUPPERSBERGER  [RUPPERSBERGER]\n6065                C. A.         [C]        RUPPERSBERGER  [RUPPERSBERGER]\n6066                C. A.         [C]        RUPPERSBERGER  [RUPPERSBERGER]\n6067                C. A.         [C]        RUPPERSBERGER  [RUPPERSBERGER]\n13049                 W.          [W]               STEUBE         [STEUBE]\n13050                 W.          [W]               STEUBE         [STEUBE]\n13051                 W.          [W]               STEUBE         [STEUBE]",
      "text/html": "<div>\n<style scoped>\n    .dataframe tbody tr th:only-of-type {\n        vertical-align: middle;\n    }\n\n    .dataframe tbody tr th {\n        vertical-align: top;\n    }\n\n    .dataframe thead th {\n        text-align: right;\n    }\n</style>\n<table border=\"1\" class=\"dataframe\">\n  <thead>\n    <tr style=\"text-align: right;\">\n      <th></th>\n      <th>unaccentedGivenName</th>\n      <th>first_names</th>\n      <th>unaccentedFamilyName</th>\n      <th>last_names</th>\n    </tr>\n  </thead>\n  <tbody>\n    <tr>\n      <th>1305</th>\n      <td>BARBARA-ROSE</td>\n      <td>[BARBARA]</td>\n      <td>COLLINS</td>\n      <td>[COLLINS]</td>\n    </tr>\n    <tr>\n      <th>1306</th>\n      <td>BARBARA-ROSE</td>\n      <td>[BARBARA]</td>\n      <td>COLLINS</td>\n      <td>[COLLINS]</td>\n    </tr>\n    <tr>\n      <th>1307</th>\n      <td>BARBARA-ROSE</td>\n      <td>[BARBARA]</td>\n      <td>COLLINS</td>\n      <td>[COLLINS]</td>\n    </tr>\n    <tr>\n      <th>6057</th>\n      <td>C. A.</td>\n      <td>[C]</td>\n      <td>RUPPERSBERGER</td>\n      <td>[RUPPERSBERGER]</td>\n    </tr>\n    <tr>\n      <th>6058</th>\n      <td>C. A.</td>\n      <td>[C]</td>\n      <td>RUPPERSBERGER</td>\n      <td>[RUPPERSBERGER]</td>\n    </tr>\n    <tr>\n      <th>6059</th>\n      <td>C. A.</td>\n      <td>[C]</td>\n      <td>RUPPERSBERGER</td>\n      <td>[RUPPERSBERGER]</td>\n    </tr>\n    <tr>\n      <th>6060</th>\n      <td>C. A.</td>\n      <td>[C]</td>\n      <td>RUPPERSBERGER</td>\n      <td>[RUPPERSBERGER]</td>\n    </tr>\n    <tr>\n      <th>6061</th>\n      <td>C. A.</td>\n      <td>[C]</td>\n      <td>RUPPERSBERGER</td>\n      <td>[RUPPERSBERGER]</td>\n    </tr>\n    <tr>\n      <th>6062</th>\n      <td>C. A.</td>\n      <td>[C]</td>\n      <td>RUPPERSBERGER</td>\n      <td>[RUPPERSBERGER]</td>\n    </tr>\n    <tr>\n      <th>6063</th>\n      <td>C. A.</td>\n      <td>[C]</td>\n      <td>RUPPERSBERGER</td>\n      <td>[RUPPERSBERGER]</td>\n    </tr>\n    <tr>\n      <th>6064</th>\n      <td>C. A.</td>\n      <td>[C]</td>\n      <td>RUPPERSBERGER</td>\n      <td>[RUPPERSBERGER]</td>\n    </tr>\n    <tr>\n      <th>6065</th>\n      <td>C. A.</td>\n      <td>[C]</td>\n      <td>RUPPERSBERGER</td>\n      <td>[RUPPERSBERGER]</td>\n    </tr>\n    <tr>\n      <th>6066</th>\n      <td>C. A.</td>\n      <td>[C]</td>\n      <td>RUPPERSBERGER</td>\n      <td>[RUPPERSBERGER]</td>\n    </tr>\n    <tr>\n      <th>6067</th>\n      <td>C. A.</td>\n      <td>[C]</td>\n      <td>RUPPERSBERGER</td>\n      <td>[RUPPERSBERGER]</td>\n    </tr>\n    <tr>\n      <th>13049</th>\n      <td>W.</td>\n      <td>[W]</td>\n      <td>STEUBE</td>\n      <td>[STEUBE]</td>\n    </tr>\n    <tr>\n      <th>13050</th>\n      <td>W.</td>\n      <td>[W]</td>\n      <td>STEUBE</td>\n      <td>[STEUBE]</td>\n    </tr>\n    <tr>\n      <th>13051</th>\n      <td>W.</td>\n      <td>[W]</td>\n      <td>STEUBE</td>\n      <td>[STEUBE]</td>\n    </tr>\n  </tbody>\n</table>\n</div>"
     },
     "execution_count": 107,
     "metadata": {},
     "output_type": "execute_result"
    }
   ],
   "source": [
    "biographic['last_names'] = biographic['unaccentedFamilyName'].apply(extract_last_name)\n",
    "biographic['first_names'] = biographic['unaccentedGivenName'].apply(extract_first_name)\n",
    "biographic[biographic['unaccentedGivenName'].str.contains(\"[- ]\")][['unaccentedGivenName', 'first_names', 'unaccentedFamilyName', 'last_names']]"
   ],
   "metadata": {
    "collapsed": false
   }
  },
  {
   "cell_type": "code",
   "execution_count": 108,
   "outputs": [
    {
     "data": {
      "text/plain": "      unaccentedGivenName unaccentedFamilyName  congressNumber stateName  \\\n578                  LISA      BLUNT ROCHESTER             115        DE   \n579                  LISA      BLUNT ROCHESTER             116        DE   \n580                  LISA      BLUNT ROCHESTER             117        DE   \n581                  LISA      BLUNT ROCHESTER             118        DE   \n1607               ELIGIO          DE LA GARZA              89        TX   \n...                   ...                  ...             ...       ...   \n13352                 GUY          VANDER JAGT              98        MI   \n13353                 GUY          VANDER JAGT              99        MI   \n13354                 GUY          VANDER JAGT             100        MI   \n13355                 GUY          VANDER JAGT             101        MI   \n13356                 GUY          VANDER JAGT             102        MI   \n\n              parties  electionYear  ageDuringElection   last_names  \\\n578      ['Democrat']          2016                 54  [ROCHESTER]   \n579      ['Democrat']          2018                 56  [ROCHESTER]   \n580      ['Democrat']          2020                 58  [ROCHESTER]   \n581      ['Democrat']          2022                 60  [ROCHESTER]   \n1607     ['Democrat']          1964                 37  [LA, GARZA]   \n...               ...           ...                ...          ...   \n13352  ['Republican']          1982                 51       [JAGT]   \n13353  ['Republican']          1984                 53       [JAGT]   \n13354  ['Republican']          1986                 55       [JAGT]   \n13355  ['Republican']          1988                 57       [JAGT]   \n13356  ['Republican']          1990                 59       [JAGT]   \n\n      first_names  \n578        [LISA]  \n579        [LISA]  \n580        [LISA]  \n581        [LISA]  \n1607     [ELIGIO]  \n...           ...  \n13352       [GUY]  \n13353       [GUY]  \n13354       [GUY]  \n13355       [GUY]  \n13356       [GUY]  \n\n[216 rows x 9 columns]",
      "text/html": "<div>\n<style scoped>\n    .dataframe tbody tr th:only-of-type {\n        vertical-align: middle;\n    }\n\n    .dataframe tbody tr th {\n        vertical-align: top;\n    }\n\n    .dataframe thead th {\n        text-align: right;\n    }\n</style>\n<table border=\"1\" class=\"dataframe\">\n  <thead>\n    <tr style=\"text-align: right;\">\n      <th></th>\n      <th>unaccentedGivenName</th>\n      <th>unaccentedFamilyName</th>\n      <th>congressNumber</th>\n      <th>stateName</th>\n      <th>parties</th>\n      <th>electionYear</th>\n      <th>ageDuringElection</th>\n      <th>last_names</th>\n      <th>first_names</th>\n    </tr>\n  </thead>\n  <tbody>\n    <tr>\n      <th>578</th>\n      <td>LISA</td>\n      <td>BLUNT ROCHESTER</td>\n      <td>115</td>\n      <td>DE</td>\n      <td>['Democrat']</td>\n      <td>2016</td>\n      <td>54</td>\n      <td>[ROCHESTER]</td>\n      <td>[LISA]</td>\n    </tr>\n    <tr>\n      <th>579</th>\n      <td>LISA</td>\n      <td>BLUNT ROCHESTER</td>\n      <td>116</td>\n      <td>DE</td>\n      <td>['Democrat']</td>\n      <td>2018</td>\n      <td>56</td>\n      <td>[ROCHESTER]</td>\n      <td>[LISA]</td>\n    </tr>\n    <tr>\n      <th>580</th>\n      <td>LISA</td>\n      <td>BLUNT ROCHESTER</td>\n      <td>117</td>\n      <td>DE</td>\n      <td>['Democrat']</td>\n      <td>2020</td>\n      <td>58</td>\n      <td>[ROCHESTER]</td>\n      <td>[LISA]</td>\n    </tr>\n    <tr>\n      <th>581</th>\n      <td>LISA</td>\n      <td>BLUNT ROCHESTER</td>\n      <td>118</td>\n      <td>DE</td>\n      <td>['Democrat']</td>\n      <td>2022</td>\n      <td>60</td>\n      <td>[ROCHESTER]</td>\n      <td>[LISA]</td>\n    </tr>\n    <tr>\n      <th>1607</th>\n      <td>ELIGIO</td>\n      <td>DE LA GARZA</td>\n      <td>89</td>\n      <td>TX</td>\n      <td>['Democrat']</td>\n      <td>1964</td>\n      <td>37</td>\n      <td>[LA, GARZA]</td>\n      <td>[ELIGIO]</td>\n    </tr>\n    <tr>\n      <th>...</th>\n      <td>...</td>\n      <td>...</td>\n      <td>...</td>\n      <td>...</td>\n      <td>...</td>\n      <td>...</td>\n      <td>...</td>\n      <td>...</td>\n      <td>...</td>\n    </tr>\n    <tr>\n      <th>13352</th>\n      <td>GUY</td>\n      <td>VANDER JAGT</td>\n      <td>98</td>\n      <td>MI</td>\n      <td>['Republican']</td>\n      <td>1982</td>\n      <td>51</td>\n      <td>[JAGT]</td>\n      <td>[GUY]</td>\n    </tr>\n    <tr>\n      <th>13353</th>\n      <td>GUY</td>\n      <td>VANDER JAGT</td>\n      <td>99</td>\n      <td>MI</td>\n      <td>['Republican']</td>\n      <td>1984</td>\n      <td>53</td>\n      <td>[JAGT]</td>\n      <td>[GUY]</td>\n    </tr>\n    <tr>\n      <th>13354</th>\n      <td>GUY</td>\n      <td>VANDER JAGT</td>\n      <td>100</td>\n      <td>MI</td>\n      <td>['Republican']</td>\n      <td>1986</td>\n      <td>55</td>\n      <td>[JAGT]</td>\n      <td>[GUY]</td>\n    </tr>\n    <tr>\n      <th>13355</th>\n      <td>GUY</td>\n      <td>VANDER JAGT</td>\n      <td>101</td>\n      <td>MI</td>\n      <td>['Republican']</td>\n      <td>1988</td>\n      <td>57</td>\n      <td>[JAGT]</td>\n      <td>[GUY]</td>\n    </tr>\n    <tr>\n      <th>13356</th>\n      <td>GUY</td>\n      <td>VANDER JAGT</td>\n      <td>102</td>\n      <td>MI</td>\n      <td>['Republican']</td>\n      <td>1990</td>\n      <td>59</td>\n      <td>[JAGT]</td>\n      <td>[GUY]</td>\n    </tr>\n  </tbody>\n</table>\n<p>216 rows × 9 columns</p>\n</div>"
     },
     "execution_count": 108,
     "metadata": {},
     "output_type": "execute_result"
    }
   ],
   "source": [
    "biographic[biographic['unaccentedFamilyName'].str.contains(\"[- ]\")]"
   ],
   "metadata": {
    "collapsed": false
   }
  },
  {
   "cell_type": "code",
   "execution_count": 109,
   "outputs": [
    {
     "data": {
      "text/plain": "      year state  district  democrat_votes  republican_votes  totalvotes  \\\n0     1976    AL         1           58906             98257      157170   \n1     1976    AL         2           66288             90069      156362   \n2     1976    AL         4          141490             34531      176022   \n3     1976    AL         6           69384             92113      162518   \n4     1976    AK         0           34194             83722      118208   \n...    ...   ...       ...             ...               ...         ...   \n8975  2022    WI         3          152977            164743      317922   \n8976  2022    WI         4          191955             57660      255012   \n8977  2022    WI         5          134581            243741      378523   \n8978  2022    WI         7          128877            209224      338268   \n8979  2022    WY         0           47250            132206      198198   \n\n       democrat_candidate        republican_candidate      winner  \\\n0          BILL DAVENPORT                JACK EDWARDS  Republican   \n1         J CAROLE KEAHEY  WILLIAM L \"BILL\" DICKINSON  Republican   \n2              TOM BEVILL              LEONARD WILSON    Democrat   \n3              MEL BAILEY          JOHN H BUCHANAN JR  Republican   \n4             EBEN HOPSON                   DON YOUNG  Republican   \n...                   ...                         ...         ...   \n8975           BRAD PFAFF           DERRICK VAN ORDEN  Republican   \n8976           GWEN MOORE                  TIM ROGERS    Democrat   \n8977     MIKE VAN SOMEREN            SCOTT FITZGERALD  Republican   \n8978  RICHARD DICK AUSMAN            THOMAS P TIFFANY  Republican   \n8979    LYNNETTE GREYBULL             HARRIET HAGEMAN  Republican   \n\n      winner_percentage  excess_dem_votes  total_demrep_votes  dem_margin  \\\n0              0.625164            -39351              157163   -0.250383   \n1              0.576029            -23781              156357   -0.152094   \n2              0.803820            106959              176021    0.607649   \n3              0.566786            -22729              161497   -0.140739   \n4              0.708260            -49528              117916   -0.420028   \n...                 ...               ...                 ...         ...   \n8975           0.518187            -11766              317720   -0.037033   \n8976           0.752729            134295              249615    0.538009   \n8977           0.643927           -109160              378322   -0.288537   \n8978           0.618515            -80347              338101   -0.237642   \n8979           0.667040            -84956              179456   -0.473409   \n\n         dem_last_name      rep_last_name   dem_first_name   rep_first_name  \n0          [DAVENPORT]          [EDWARDS]           [BILL]           [JACK]  \n1     [CAROLE, KEAHEY]  [BILL, DICKINSON]      [J, CAROLE]  [WILLIAM, BILL]  \n2             [BEVILL]           [WILSON]            [TOM]        [LEONARD]  \n3             [BAILEY]         [BUCHANAN]            [MEL]           [JOHN]  \n4             [HOPSON]            [YOUNG]           [EBEN]            [DON]  \n...                ...                ...              ...              ...  \n8975           [PFAFF]       [VAN, ORDEN]           [BRAD]   [DERRICK, VAN]  \n8976           [MOORE]           [ROGERS]           [GWEN]            [TIM]  \n8977    [VAN, SOMEREN]       [FITZGERALD]      [MIKE, VAN]          [SCOTT]  \n8978    [DICK, AUSMAN]          [TIFFANY]  [RICHARD, DICK]         [THOMAS]  \n8979        [GREYBULL]          [HAGEMAN]       [LYNNETTE]        [HARRIET]  \n\n[8980 rows x 17 columns]",
      "text/html": "<div>\n<style scoped>\n    .dataframe tbody tr th:only-of-type {\n        vertical-align: middle;\n    }\n\n    .dataframe tbody tr th {\n        vertical-align: top;\n    }\n\n    .dataframe thead th {\n        text-align: right;\n    }\n</style>\n<table border=\"1\" class=\"dataframe\">\n  <thead>\n    <tr style=\"text-align: right;\">\n      <th></th>\n      <th>year</th>\n      <th>state</th>\n      <th>district</th>\n      <th>democrat_votes</th>\n      <th>republican_votes</th>\n      <th>totalvotes</th>\n      <th>democrat_candidate</th>\n      <th>republican_candidate</th>\n      <th>winner</th>\n      <th>winner_percentage</th>\n      <th>excess_dem_votes</th>\n      <th>total_demrep_votes</th>\n      <th>dem_margin</th>\n      <th>dem_last_name</th>\n      <th>rep_last_name</th>\n      <th>dem_first_name</th>\n      <th>rep_first_name</th>\n    </tr>\n  </thead>\n  <tbody>\n    <tr>\n      <th>0</th>\n      <td>1976</td>\n      <td>AL</td>\n      <td>1</td>\n      <td>58906</td>\n      <td>98257</td>\n      <td>157170</td>\n      <td>BILL DAVENPORT</td>\n      <td>JACK EDWARDS</td>\n      <td>Republican</td>\n      <td>0.625164</td>\n      <td>-39351</td>\n      <td>157163</td>\n      <td>-0.250383</td>\n      <td>[DAVENPORT]</td>\n      <td>[EDWARDS]</td>\n      <td>[BILL]</td>\n      <td>[JACK]</td>\n    </tr>\n    <tr>\n      <th>1</th>\n      <td>1976</td>\n      <td>AL</td>\n      <td>2</td>\n      <td>66288</td>\n      <td>90069</td>\n      <td>156362</td>\n      <td>J CAROLE KEAHEY</td>\n      <td>WILLIAM L \"BILL\" DICKINSON</td>\n      <td>Republican</td>\n      <td>0.576029</td>\n      <td>-23781</td>\n      <td>156357</td>\n      <td>-0.152094</td>\n      <td>[CAROLE, KEAHEY]</td>\n      <td>[BILL, DICKINSON]</td>\n      <td>[J, CAROLE]</td>\n      <td>[WILLIAM, BILL]</td>\n    </tr>\n    <tr>\n      <th>2</th>\n      <td>1976</td>\n      <td>AL</td>\n      <td>4</td>\n      <td>141490</td>\n      <td>34531</td>\n      <td>176022</td>\n      <td>TOM BEVILL</td>\n      <td>LEONARD WILSON</td>\n      <td>Democrat</td>\n      <td>0.803820</td>\n      <td>106959</td>\n      <td>176021</td>\n      <td>0.607649</td>\n      <td>[BEVILL]</td>\n      <td>[WILSON]</td>\n      <td>[TOM]</td>\n      <td>[LEONARD]</td>\n    </tr>\n    <tr>\n      <th>3</th>\n      <td>1976</td>\n      <td>AL</td>\n      <td>6</td>\n      <td>69384</td>\n      <td>92113</td>\n      <td>162518</td>\n      <td>MEL BAILEY</td>\n      <td>JOHN H BUCHANAN JR</td>\n      <td>Republican</td>\n      <td>0.566786</td>\n      <td>-22729</td>\n      <td>161497</td>\n      <td>-0.140739</td>\n      <td>[BAILEY]</td>\n      <td>[BUCHANAN]</td>\n      <td>[MEL]</td>\n      <td>[JOHN]</td>\n    </tr>\n    <tr>\n      <th>4</th>\n      <td>1976</td>\n      <td>AK</td>\n      <td>0</td>\n      <td>34194</td>\n      <td>83722</td>\n      <td>118208</td>\n      <td>EBEN HOPSON</td>\n      <td>DON YOUNG</td>\n      <td>Republican</td>\n      <td>0.708260</td>\n      <td>-49528</td>\n      <td>117916</td>\n      <td>-0.420028</td>\n      <td>[HOPSON]</td>\n      <td>[YOUNG]</td>\n      <td>[EBEN]</td>\n      <td>[DON]</td>\n    </tr>\n    <tr>\n      <th>...</th>\n      <td>...</td>\n      <td>...</td>\n      <td>...</td>\n      <td>...</td>\n      <td>...</td>\n      <td>...</td>\n      <td>...</td>\n      <td>...</td>\n      <td>...</td>\n      <td>...</td>\n      <td>...</td>\n      <td>...</td>\n      <td>...</td>\n      <td>...</td>\n      <td>...</td>\n      <td>...</td>\n      <td>...</td>\n    </tr>\n    <tr>\n      <th>8975</th>\n      <td>2022</td>\n      <td>WI</td>\n      <td>3</td>\n      <td>152977</td>\n      <td>164743</td>\n      <td>317922</td>\n      <td>BRAD PFAFF</td>\n      <td>DERRICK VAN ORDEN</td>\n      <td>Republican</td>\n      <td>0.518187</td>\n      <td>-11766</td>\n      <td>317720</td>\n      <td>-0.037033</td>\n      <td>[PFAFF]</td>\n      <td>[VAN, ORDEN]</td>\n      <td>[BRAD]</td>\n      <td>[DERRICK, VAN]</td>\n    </tr>\n    <tr>\n      <th>8976</th>\n      <td>2022</td>\n      <td>WI</td>\n      <td>4</td>\n      <td>191955</td>\n      <td>57660</td>\n      <td>255012</td>\n      <td>GWEN MOORE</td>\n      <td>TIM ROGERS</td>\n      <td>Democrat</td>\n      <td>0.752729</td>\n      <td>134295</td>\n      <td>249615</td>\n      <td>0.538009</td>\n      <td>[MOORE]</td>\n      <td>[ROGERS]</td>\n      <td>[GWEN]</td>\n      <td>[TIM]</td>\n    </tr>\n    <tr>\n      <th>8977</th>\n      <td>2022</td>\n      <td>WI</td>\n      <td>5</td>\n      <td>134581</td>\n      <td>243741</td>\n      <td>378523</td>\n      <td>MIKE VAN SOMEREN</td>\n      <td>SCOTT FITZGERALD</td>\n      <td>Republican</td>\n      <td>0.643927</td>\n      <td>-109160</td>\n      <td>378322</td>\n      <td>-0.288537</td>\n      <td>[VAN, SOMEREN]</td>\n      <td>[FITZGERALD]</td>\n      <td>[MIKE, VAN]</td>\n      <td>[SCOTT]</td>\n    </tr>\n    <tr>\n      <th>8978</th>\n      <td>2022</td>\n      <td>WI</td>\n      <td>7</td>\n      <td>128877</td>\n      <td>209224</td>\n      <td>338268</td>\n      <td>RICHARD DICK AUSMAN</td>\n      <td>THOMAS P TIFFANY</td>\n      <td>Republican</td>\n      <td>0.618515</td>\n      <td>-80347</td>\n      <td>338101</td>\n      <td>-0.237642</td>\n      <td>[DICK, AUSMAN]</td>\n      <td>[TIFFANY]</td>\n      <td>[RICHARD, DICK]</td>\n      <td>[THOMAS]</td>\n    </tr>\n    <tr>\n      <th>8979</th>\n      <td>2022</td>\n      <td>WY</td>\n      <td>0</td>\n      <td>47250</td>\n      <td>132206</td>\n      <td>198198</td>\n      <td>LYNNETTE GREYBULL</td>\n      <td>HARRIET HAGEMAN</td>\n      <td>Republican</td>\n      <td>0.667040</td>\n      <td>-84956</td>\n      <td>179456</td>\n      <td>-0.473409</td>\n      <td>[GREYBULL]</td>\n      <td>[HAGEMAN]</td>\n      <td>[LYNNETTE]</td>\n      <td>[HARRIET]</td>\n    </tr>\n  </tbody>\n</table>\n<p>8980 rows × 17 columns</p>\n</div>"
     },
     "execution_count": 109,
     "metadata": {},
     "output_type": "execute_result"
    }
   ],
   "source": [
    "elections"
   ],
   "metadata": {
    "collapsed": false
   }
  },
  {
   "cell_type": "code",
   "execution_count": 110,
   "outputs": [
    {
     "data": {
      "text/plain": "      year state  district  democrat_votes  republican_votes  totalvotes  \\\n0     1976    AL         2           66288             90069      156362   \n1     1976    AL         4          141490             34531      176022   \n2     1976    AL         6           69384             92113      162518   \n3     1976    AZ         1           68404             96397      168119   \n4     1976    AZ         2          106054             71765      182128   \n...    ...   ...       ...             ...               ...         ...   \n6891  2022    WA         9          171746             67631      239848   \n6892  2022    WV         1           65428            151511      227196   \n6893  2022    WI         1          135825            162610      300867   \n6894  2022    WI         2          268740            101890      378537   \n6895  2022    WI         7          128877            209224      338268   \n\n          democrat_candidate        republican_candidate      winner  \\\n0            J CAROLE KEAHEY  WILLIAM L \"BILL\" DICKINSON  Republican   \n1                 TOM BEVILL              LEONARD WILSON    Democrat   \n2                 MEL BAILEY          JOHN H BUCHANAN JR  Republican   \n3     PATRICIA M FULLINWIDER               JOHN J RHODES  Republican   \n4             MORRIS K UDALL             LAIRD GUTTERSEN    Democrat   \n...                      ...                         ...         ...   \n6891              ADAM SMITH                 DOUG BASLER    Democrat   \n6892             LACY WATSON              CAROL D MILLER  Republican   \n6893                 ANN ROE                 BRYAN STEIL  Republican   \n6894              MARK POCAN                  ERIK OLSEN    Democrat   \n6895     RICHARD DICK AUSMAN            THOMAS P TIFFANY  Republican   \n\n      winner_percentage  ...   rep_first_name  unaccentedGivenName  \\\n0              0.576029  ...  [WILLIAM, BILL]              WILLIAM   \n1              0.803820  ...        [LEONARD]                  TOM   \n2              0.566786  ...           [JOHN]                 JOHN   \n3              0.573386  ...           [JOHN]                 JOHN   \n4              0.582305  ...          [LAIRD]               MORRIS   \n...                 ...  ...              ...                  ...   \n6891           0.716062  ...           [DOUG]                 ADAM   \n6892           0.666874  ...          [CAROL]                CAROL   \n6893           0.540471  ...          [BRYAN]                BRYAN   \n6894           0.709944  ...           [ERIK]                 MARK   \n6895           0.618515  ...         [THOMAS]               THOMAS   \n\n      unaccentedFamilyName congressNumber stateName         parties  \\\n0                DICKINSON             95        AL  ['Republican']   \n1                   BEVILL             95        AL    ['Democrat']   \n2                 BUCHANAN             95        AL  ['Republican']   \n3                   RHODES             95        AZ  ['Republican']   \n4                    UDALL             95        AZ    ['Democrat']   \n...                    ...            ...       ...             ...   \n6891                 SMITH            118        WA    ['Democrat']   \n6892                MILLER            118        WV  ['Republican']   \n6893                 STEIL            118        WI  ['Republican']   \n6894                 POCAN            118        WI    ['Democrat']   \n6895               TIFFANY            118        WI  ['Republican']   \n\n     electionYear ageDuringElection   last_names  first_names  \n0            1976                51  [DICKINSON]    [WILLIAM]  \n1            1976                55     [BEVILL]        [TOM]  \n2            1976                48   [BUCHANAN]       [JOHN]  \n3            1976                60     [RHODES]       [JOHN]  \n4            1976                54      [UDALL]     [MORRIS]  \n...           ...               ...          ...          ...  \n6891         2022                57      [SMITH]       [ADAM]  \n6892         2022                72     [MILLER]      [CAROL]  \n6893         2022                41      [STEIL]      [BRYAN]  \n6894         2022                58      [POCAN]       [MARK]  \n6895         2022                65    [TIFFANY]     [THOMAS]  \n\n[6896 rows x 26 columns]",
      "text/html": "<div>\n<style scoped>\n    .dataframe tbody tr th:only-of-type {\n        vertical-align: middle;\n    }\n\n    .dataframe tbody tr th {\n        vertical-align: top;\n    }\n\n    .dataframe thead th {\n        text-align: right;\n    }\n</style>\n<table border=\"1\" class=\"dataframe\">\n  <thead>\n    <tr style=\"text-align: right;\">\n      <th></th>\n      <th>year</th>\n      <th>state</th>\n      <th>district</th>\n      <th>democrat_votes</th>\n      <th>republican_votes</th>\n      <th>totalvotes</th>\n      <th>democrat_candidate</th>\n      <th>republican_candidate</th>\n      <th>winner</th>\n      <th>winner_percentage</th>\n      <th>...</th>\n      <th>rep_first_name</th>\n      <th>unaccentedGivenName</th>\n      <th>unaccentedFamilyName</th>\n      <th>congressNumber</th>\n      <th>stateName</th>\n      <th>parties</th>\n      <th>electionYear</th>\n      <th>ageDuringElection</th>\n      <th>last_names</th>\n      <th>first_names</th>\n    </tr>\n  </thead>\n  <tbody>\n    <tr>\n      <th>0</th>\n      <td>1976</td>\n      <td>AL</td>\n      <td>2</td>\n      <td>66288</td>\n      <td>90069</td>\n      <td>156362</td>\n      <td>J CAROLE KEAHEY</td>\n      <td>WILLIAM L \"BILL\" DICKINSON</td>\n      <td>Republican</td>\n      <td>0.576029</td>\n      <td>...</td>\n      <td>[WILLIAM, BILL]</td>\n      <td>WILLIAM</td>\n      <td>DICKINSON</td>\n      <td>95</td>\n      <td>AL</td>\n      <td>['Republican']</td>\n      <td>1976</td>\n      <td>51</td>\n      <td>[DICKINSON]</td>\n      <td>[WILLIAM]</td>\n    </tr>\n    <tr>\n      <th>1</th>\n      <td>1976</td>\n      <td>AL</td>\n      <td>4</td>\n      <td>141490</td>\n      <td>34531</td>\n      <td>176022</td>\n      <td>TOM BEVILL</td>\n      <td>LEONARD WILSON</td>\n      <td>Democrat</td>\n      <td>0.803820</td>\n      <td>...</td>\n      <td>[LEONARD]</td>\n      <td>TOM</td>\n      <td>BEVILL</td>\n      <td>95</td>\n      <td>AL</td>\n      <td>['Democrat']</td>\n      <td>1976</td>\n      <td>55</td>\n      <td>[BEVILL]</td>\n      <td>[TOM]</td>\n    </tr>\n    <tr>\n      <th>2</th>\n      <td>1976</td>\n      <td>AL</td>\n      <td>6</td>\n      <td>69384</td>\n      <td>92113</td>\n      <td>162518</td>\n      <td>MEL BAILEY</td>\n      <td>JOHN H BUCHANAN JR</td>\n      <td>Republican</td>\n      <td>0.566786</td>\n      <td>...</td>\n      <td>[JOHN]</td>\n      <td>JOHN</td>\n      <td>BUCHANAN</td>\n      <td>95</td>\n      <td>AL</td>\n      <td>['Republican']</td>\n      <td>1976</td>\n      <td>48</td>\n      <td>[BUCHANAN]</td>\n      <td>[JOHN]</td>\n    </tr>\n    <tr>\n      <th>3</th>\n      <td>1976</td>\n      <td>AZ</td>\n      <td>1</td>\n      <td>68404</td>\n      <td>96397</td>\n      <td>168119</td>\n      <td>PATRICIA M FULLINWIDER</td>\n      <td>JOHN J RHODES</td>\n      <td>Republican</td>\n      <td>0.573386</td>\n      <td>...</td>\n      <td>[JOHN]</td>\n      <td>JOHN</td>\n      <td>RHODES</td>\n      <td>95</td>\n      <td>AZ</td>\n      <td>['Republican']</td>\n      <td>1976</td>\n      <td>60</td>\n      <td>[RHODES]</td>\n      <td>[JOHN]</td>\n    </tr>\n    <tr>\n      <th>4</th>\n      <td>1976</td>\n      <td>AZ</td>\n      <td>2</td>\n      <td>106054</td>\n      <td>71765</td>\n      <td>182128</td>\n      <td>MORRIS K UDALL</td>\n      <td>LAIRD GUTTERSEN</td>\n      <td>Democrat</td>\n      <td>0.582305</td>\n      <td>...</td>\n      <td>[LAIRD]</td>\n      <td>MORRIS</td>\n      <td>UDALL</td>\n      <td>95</td>\n      <td>AZ</td>\n      <td>['Democrat']</td>\n      <td>1976</td>\n      <td>54</td>\n      <td>[UDALL]</td>\n      <td>[MORRIS]</td>\n    </tr>\n    <tr>\n      <th>...</th>\n      <td>...</td>\n      <td>...</td>\n      <td>...</td>\n      <td>...</td>\n      <td>...</td>\n      <td>...</td>\n      <td>...</td>\n      <td>...</td>\n      <td>...</td>\n      <td>...</td>\n      <td>...</td>\n      <td>...</td>\n      <td>...</td>\n      <td>...</td>\n      <td>...</td>\n      <td>...</td>\n      <td>...</td>\n      <td>...</td>\n      <td>...</td>\n      <td>...</td>\n      <td>...</td>\n    </tr>\n    <tr>\n      <th>6891</th>\n      <td>2022</td>\n      <td>WA</td>\n      <td>9</td>\n      <td>171746</td>\n      <td>67631</td>\n      <td>239848</td>\n      <td>ADAM SMITH</td>\n      <td>DOUG BASLER</td>\n      <td>Democrat</td>\n      <td>0.716062</td>\n      <td>...</td>\n      <td>[DOUG]</td>\n      <td>ADAM</td>\n      <td>SMITH</td>\n      <td>118</td>\n      <td>WA</td>\n      <td>['Democrat']</td>\n      <td>2022</td>\n      <td>57</td>\n      <td>[SMITH]</td>\n      <td>[ADAM]</td>\n    </tr>\n    <tr>\n      <th>6892</th>\n      <td>2022</td>\n      <td>WV</td>\n      <td>1</td>\n      <td>65428</td>\n      <td>151511</td>\n      <td>227196</td>\n      <td>LACY WATSON</td>\n      <td>CAROL D MILLER</td>\n      <td>Republican</td>\n      <td>0.666874</td>\n      <td>...</td>\n      <td>[CAROL]</td>\n      <td>CAROL</td>\n      <td>MILLER</td>\n      <td>118</td>\n      <td>WV</td>\n      <td>['Republican']</td>\n      <td>2022</td>\n      <td>72</td>\n      <td>[MILLER]</td>\n      <td>[CAROL]</td>\n    </tr>\n    <tr>\n      <th>6893</th>\n      <td>2022</td>\n      <td>WI</td>\n      <td>1</td>\n      <td>135825</td>\n      <td>162610</td>\n      <td>300867</td>\n      <td>ANN ROE</td>\n      <td>BRYAN STEIL</td>\n      <td>Republican</td>\n      <td>0.540471</td>\n      <td>...</td>\n      <td>[BRYAN]</td>\n      <td>BRYAN</td>\n      <td>STEIL</td>\n      <td>118</td>\n      <td>WI</td>\n      <td>['Republican']</td>\n      <td>2022</td>\n      <td>41</td>\n      <td>[STEIL]</td>\n      <td>[BRYAN]</td>\n    </tr>\n    <tr>\n      <th>6894</th>\n      <td>2022</td>\n      <td>WI</td>\n      <td>2</td>\n      <td>268740</td>\n      <td>101890</td>\n      <td>378537</td>\n      <td>MARK POCAN</td>\n      <td>ERIK OLSEN</td>\n      <td>Democrat</td>\n      <td>0.709944</td>\n      <td>...</td>\n      <td>[ERIK]</td>\n      <td>MARK</td>\n      <td>POCAN</td>\n      <td>118</td>\n      <td>WI</td>\n      <td>['Democrat']</td>\n      <td>2022</td>\n      <td>58</td>\n      <td>[POCAN]</td>\n      <td>[MARK]</td>\n    </tr>\n    <tr>\n      <th>6895</th>\n      <td>2022</td>\n      <td>WI</td>\n      <td>7</td>\n      <td>128877</td>\n      <td>209224</td>\n      <td>338268</td>\n      <td>RICHARD DICK AUSMAN</td>\n      <td>THOMAS P TIFFANY</td>\n      <td>Republican</td>\n      <td>0.618515</td>\n      <td>...</td>\n      <td>[THOMAS]</td>\n      <td>THOMAS</td>\n      <td>TIFFANY</td>\n      <td>118</td>\n      <td>WI</td>\n      <td>['Republican']</td>\n      <td>2022</td>\n      <td>65</td>\n      <td>[TIFFANY]</td>\n      <td>[THOMAS]</td>\n    </tr>\n  </tbody>\n</table>\n<p>6896 rows × 26 columns</p>\n</div>"
     },
     "execution_count": 110,
     "metadata": {},
     "output_type": "execute_result"
    }
   ],
   "source": [
    "# Create a function to check if any name in a list of names matches with a given last name\n",
    "def name_matches(name_list, last_name_list):\n",
    "    for name in name_list:\n",
    "        for last in last_name_list:\n",
    "            if name == last:\n",
    "                return True\n",
    "\n",
    "# Create an empty list to store the joined rows\n",
    "joined_rows = []\n",
    "\n",
    "# Iterate through each row of the elections dataframe\n",
    "for _, election_row in elections.iterrows():\n",
    "    # Filter biographic dataframe based on the first three conditions\n",
    "    matching_bio_rows = biographic[\n",
    "        (biographic['electionYear'] == election_row['year']) &\n",
    "        (biographic['stateName'] == election_row['state'])\n",
    "    ]\n",
    "\n",
    "    # Further filter based on the fourth condition\n",
    "    matches = [\n",
    "        pd.DataFrame([election_row.tolist() + bio_row.tolist()], columns=election_row.index.tolist() + bio_row.index.tolist())\n",
    "        for _, bio_row in matching_bio_rows.iterrows()\n",
    "        if (\n",
    "                (name_matches(bio_row['last_names'], election_row['dem_last_name']) or\n",
    "                 name_matches(bio_row['last_names'], election_row['rep_last_name'])) and\n",
    "                (name_matches(bio_row['first_names'], election_row['dem_first_name']) or\n",
    "                 name_matches(bio_row['first_names'], election_row['rep_first_name']))\n",
    "        )\n",
    "    ]\n",
    "    joined_rows.extend(matches)\n",
    "\n",
    "# Convert the list of joined rows into a dataframe\n",
    "joined_df = pd.concat(joined_rows, ignore_index=True)\n",
    "\n",
    "# Display the first few rows of the joined dataframe\n",
    "joined_df"
   ],
   "metadata": {
    "collapsed": false
   }
  },
  {
   "cell_type": "code",
   "execution_count": 111,
   "outputs": [
    {
     "name": "stderr",
     "output_type": "stream",
     "text": [
      "/var/folders/4w/ryd_r6790xd370fr_0j0l_800000gn/T/ipykernel_3035/4069495298.py:14: SettingWithCopyWarning: \n",
      "A value is trying to be set on a copy of a slice from a DataFrame\n",
      "\n",
      "See the caveats in the documentation: https://pandas.pydata.org/pandas-docs/stable/user_guide/indexing.html#returning-a-view-versus-a-copy\n",
      "  joined_df.drop_duplicates(subset=joined_df.columns.difference(['Unnamed: 0']), inplace=True)\n"
     ]
    },
    {
     "data": {
      "text/plain": "     democrat_candidate republican_candidate      winner unaccentedGivenName  \\\n390       ABNER J MIKVA        JOHN E PORTER    Democrat               ABNER   \n391       ABNER J MIKVA        JOHN E PORTER    Democrat                JOHN   \n402          PAUL SIMON      JOHN T ANDERSON    Democrat                PAUL   \n403          PAUL SIMON      JOHN T ANDERSON    Democrat                JOHN   \n977    DANIEL G DEFOSSE       PHILIP M CRANE  Republican              DANIEL   \n978    DANIEL G DEFOSSE       PHILIP M CRANE  Republican              PHILIP   \n1000     CARL D PERKINS            TOM HAMBY    Democrat                CARL   \n1001     CARL D PERKINS            TOM HAMBY    Democrat                CARL   \n111     RICHARD A TONRY  ROBERT L LIVINGSTON    Democrat             RICHARD   \n112     RICHARD A TONRY  ROBERT L LIVINGSTON    Democrat              ROBERT   \n4964     DONALD M PAYNE     MICHAEL J ALONSO    Democrat              DONALD   \n4965     DONALD M PAYNE     MICHAEL J ALONSO    Democrat              DONALD   \n4979   ANTHONY D WEINER      ROBERT L TURNER    Democrat             ANTHONY   \n4980   ANTHONY D WEINER      ROBERT L TURNER    Democrat              ROBERT   \n1660       JOHN F BOWEN        JOHN J DUNCAN  Republican                JOHN   \n1661       JOHN F BOWEN        JOHN J DUNCAN  Republican                JOHN   \n5102      SUZAN DELBENE     DAVID G REICHERT  Republican               SUZAN   \n5103      SUZAN DELBENE     DAVID G REICHERT  Republican               DAVID   \n\n     unaccentedFamilyName  ageDuringElection  year state  district  \n390                 MIKVA                 52  1978    IL        10  \n391                PORTER                 43  1978    IL        10  \n402                 SIMON                 50  1978    IL        24  \n403              ANDERSON                 56  1978    IL        24  \n977                 CRANE                 46  1982    IL        12  \n978                 CRANE                 52  1982    IL        12  \n1000              PERKINS                 28  1982    KY         7  \n1001              PERKINS                 70  1982    KY         7  \n111                 TONRY                 41  1976    LA         1  \n112            LIVINGSTON                 33  1976    LA         1  \n4964                PAYNE                 76  2010    NJ        10  \n4965                PAYNE                 52  2010    NJ        10  \n4979               WEINER                 46  2010    NY         9  \n4980               TURNER                 69  2010    NY         9  \n1660               DUNCAN                 39  1986    TN         2  \n1661               DUNCAN                 67  1986    TN         2  \n5102              DELBENE                 48  2010    WA         8  \n5103             REICHERT                 60  2010    WA         8  ",
      "text/html": "<div>\n<style scoped>\n    .dataframe tbody tr th:only-of-type {\n        vertical-align: middle;\n    }\n\n    .dataframe tbody tr th {\n        vertical-align: top;\n    }\n\n    .dataframe thead th {\n        text-align: right;\n    }\n</style>\n<table border=\"1\" class=\"dataframe\">\n  <thead>\n    <tr style=\"text-align: right;\">\n      <th></th>\n      <th>democrat_candidate</th>\n      <th>republican_candidate</th>\n      <th>winner</th>\n      <th>unaccentedGivenName</th>\n      <th>unaccentedFamilyName</th>\n      <th>ageDuringElection</th>\n      <th>year</th>\n      <th>state</th>\n      <th>district</th>\n    </tr>\n  </thead>\n  <tbody>\n    <tr>\n      <th>390</th>\n      <td>ABNER J MIKVA</td>\n      <td>JOHN E PORTER</td>\n      <td>Democrat</td>\n      <td>ABNER</td>\n      <td>MIKVA</td>\n      <td>52</td>\n      <td>1978</td>\n      <td>IL</td>\n      <td>10</td>\n    </tr>\n    <tr>\n      <th>391</th>\n      <td>ABNER J MIKVA</td>\n      <td>JOHN E PORTER</td>\n      <td>Democrat</td>\n      <td>JOHN</td>\n      <td>PORTER</td>\n      <td>43</td>\n      <td>1978</td>\n      <td>IL</td>\n      <td>10</td>\n    </tr>\n    <tr>\n      <th>402</th>\n      <td>PAUL SIMON</td>\n      <td>JOHN T ANDERSON</td>\n      <td>Democrat</td>\n      <td>PAUL</td>\n      <td>SIMON</td>\n      <td>50</td>\n      <td>1978</td>\n      <td>IL</td>\n      <td>24</td>\n    </tr>\n    <tr>\n      <th>403</th>\n      <td>PAUL SIMON</td>\n      <td>JOHN T ANDERSON</td>\n      <td>Democrat</td>\n      <td>JOHN</td>\n      <td>ANDERSON</td>\n      <td>56</td>\n      <td>1978</td>\n      <td>IL</td>\n      <td>24</td>\n    </tr>\n    <tr>\n      <th>977</th>\n      <td>DANIEL G DEFOSSE</td>\n      <td>PHILIP M CRANE</td>\n      <td>Republican</td>\n      <td>DANIEL</td>\n      <td>CRANE</td>\n      <td>46</td>\n      <td>1982</td>\n      <td>IL</td>\n      <td>12</td>\n    </tr>\n    <tr>\n      <th>978</th>\n      <td>DANIEL G DEFOSSE</td>\n      <td>PHILIP M CRANE</td>\n      <td>Republican</td>\n      <td>PHILIP</td>\n      <td>CRANE</td>\n      <td>52</td>\n      <td>1982</td>\n      <td>IL</td>\n      <td>12</td>\n    </tr>\n    <tr>\n      <th>1000</th>\n      <td>CARL D PERKINS</td>\n      <td>TOM HAMBY</td>\n      <td>Democrat</td>\n      <td>CARL</td>\n      <td>PERKINS</td>\n      <td>28</td>\n      <td>1982</td>\n      <td>KY</td>\n      <td>7</td>\n    </tr>\n    <tr>\n      <th>1001</th>\n      <td>CARL D PERKINS</td>\n      <td>TOM HAMBY</td>\n      <td>Democrat</td>\n      <td>CARL</td>\n      <td>PERKINS</td>\n      <td>70</td>\n      <td>1982</td>\n      <td>KY</td>\n      <td>7</td>\n    </tr>\n    <tr>\n      <th>111</th>\n      <td>RICHARD A TONRY</td>\n      <td>ROBERT L LIVINGSTON</td>\n      <td>Democrat</td>\n      <td>RICHARD</td>\n      <td>TONRY</td>\n      <td>41</td>\n      <td>1976</td>\n      <td>LA</td>\n      <td>1</td>\n    </tr>\n    <tr>\n      <th>112</th>\n      <td>RICHARD A TONRY</td>\n      <td>ROBERT L LIVINGSTON</td>\n      <td>Democrat</td>\n      <td>ROBERT</td>\n      <td>LIVINGSTON</td>\n      <td>33</td>\n      <td>1976</td>\n      <td>LA</td>\n      <td>1</td>\n    </tr>\n    <tr>\n      <th>4964</th>\n      <td>DONALD M PAYNE</td>\n      <td>MICHAEL J ALONSO</td>\n      <td>Democrat</td>\n      <td>DONALD</td>\n      <td>PAYNE</td>\n      <td>76</td>\n      <td>2010</td>\n      <td>NJ</td>\n      <td>10</td>\n    </tr>\n    <tr>\n      <th>4965</th>\n      <td>DONALD M PAYNE</td>\n      <td>MICHAEL J ALONSO</td>\n      <td>Democrat</td>\n      <td>DONALD</td>\n      <td>PAYNE</td>\n      <td>52</td>\n      <td>2010</td>\n      <td>NJ</td>\n      <td>10</td>\n    </tr>\n    <tr>\n      <th>4979</th>\n      <td>ANTHONY D WEINER</td>\n      <td>ROBERT L TURNER</td>\n      <td>Democrat</td>\n      <td>ANTHONY</td>\n      <td>WEINER</td>\n      <td>46</td>\n      <td>2010</td>\n      <td>NY</td>\n      <td>9</td>\n    </tr>\n    <tr>\n      <th>4980</th>\n      <td>ANTHONY D WEINER</td>\n      <td>ROBERT L TURNER</td>\n      <td>Democrat</td>\n      <td>ROBERT</td>\n      <td>TURNER</td>\n      <td>69</td>\n      <td>2010</td>\n      <td>NY</td>\n      <td>9</td>\n    </tr>\n    <tr>\n      <th>1660</th>\n      <td>JOHN F BOWEN</td>\n      <td>JOHN J DUNCAN</td>\n      <td>Republican</td>\n      <td>JOHN</td>\n      <td>DUNCAN</td>\n      <td>39</td>\n      <td>1986</td>\n      <td>TN</td>\n      <td>2</td>\n    </tr>\n    <tr>\n      <th>1661</th>\n      <td>JOHN F BOWEN</td>\n      <td>JOHN J DUNCAN</td>\n      <td>Republican</td>\n      <td>JOHN</td>\n      <td>DUNCAN</td>\n      <td>67</td>\n      <td>1986</td>\n      <td>TN</td>\n      <td>2</td>\n    </tr>\n    <tr>\n      <th>5102</th>\n      <td>SUZAN DELBENE</td>\n      <td>DAVID G REICHERT</td>\n      <td>Republican</td>\n      <td>SUZAN</td>\n      <td>DELBENE</td>\n      <td>48</td>\n      <td>2010</td>\n      <td>WA</td>\n      <td>8</td>\n    </tr>\n    <tr>\n      <th>5103</th>\n      <td>SUZAN DELBENE</td>\n      <td>DAVID G REICHERT</td>\n      <td>Republican</td>\n      <td>DAVID</td>\n      <td>REICHERT</td>\n      <td>60</td>\n      <td>2010</td>\n      <td>WA</td>\n      <td>8</td>\n    </tr>\n  </tbody>\n</table>\n</div>"
     },
     "execution_count": 111,
     "metadata": {},
     "output_type": "execute_result"
    }
   ],
   "source": [
    "joined_df = joined_df[[\n",
    "    'year',\n",
    "    'state',\n",
    "    'district',\n",
    "    'democrat_candidate',\n",
    "    'republican_candidate',\n",
    "    'total_demrep_votes',\n",
    "    'winner',\n",
    "    'dem_margin',\n",
    "    'unaccentedGivenName',\n",
    "    'unaccentedFamilyName',\n",
    "    'ageDuringElection'\n",
    "]]\n",
    "joined_df.drop_duplicates(subset=joined_df.columns.difference(['Unnamed: 0']), inplace=True)\n",
    "\n",
    "# Re-check for duplicates based on state, year, and district in joined_df after removal\n",
    "remaining_duplicates = joined_df[joined_df.duplicated(subset=['state', 'year', 'district'], keep=False)].sort_values(by=['state', 'year', 'district'])\n",
    "\n",
    "remaining_duplicates[['democrat_candidate', 'republican_candidate', 'winner', 'unaccentedGivenName', 'unaccentedFamilyName', 'ageDuringElection', 'year', 'state', 'district']]"
   ],
   "metadata": {
    "collapsed": false
   }
  },
  {
   "cell_type": "code",
   "execution_count": 112,
   "outputs": [],
   "source": [
    "drop_indices = [391, 403, 977, 1000, 111, 4980, 1660, 5102, 4965]\n",
    "joined_df = joined_df.drop(drop_indices)"
   ],
   "metadata": {
    "collapsed": false
   }
  },
  {
   "cell_type": "code",
   "execution_count": 113,
   "outputs": [
    {
     "data": {
      "text/plain": "Empty DataFrame\nColumns: [year, state, district, democrat_candidate, republican_candidate, total_demrep_votes, winner, dem_margin, unaccentedGivenName, unaccentedFamilyName, ageDuringElection]\nIndex: []",
      "text/html": "<div>\n<style scoped>\n    .dataframe tbody tr th:only-of-type {\n        vertical-align: middle;\n    }\n\n    .dataframe tbody tr th {\n        vertical-align: top;\n    }\n\n    .dataframe thead th {\n        text-align: right;\n    }\n</style>\n<table border=\"1\" class=\"dataframe\">\n  <thead>\n    <tr style=\"text-align: right;\">\n      <th></th>\n      <th>year</th>\n      <th>state</th>\n      <th>district</th>\n      <th>democrat_candidate</th>\n      <th>republican_candidate</th>\n      <th>total_demrep_votes</th>\n      <th>winner</th>\n      <th>dem_margin</th>\n      <th>unaccentedGivenName</th>\n      <th>unaccentedFamilyName</th>\n      <th>ageDuringElection</th>\n    </tr>\n  </thead>\n  <tbody>\n  </tbody>\n</table>\n</div>"
     },
     "execution_count": 113,
     "metadata": {},
     "output_type": "execute_result"
    }
   ],
   "source": [
    "remaining_duplicates = joined_df[joined_df.duplicated(subset=['state', 'year', 'district'], keep=False)].sort_values(by=['state', 'year', 'district'])\n",
    "remaining_duplicates"
   ],
   "metadata": {
    "collapsed": false
   }
  },
  {
   "cell_type": "code",
   "execution_count": 114,
   "outputs": [],
   "source": [
    "joined_df.to_csv(\"~/Downloads/raw.csv\")"
   ],
   "metadata": {
    "collapsed": false
   }
  },
  {
   "cell_type": "code",
   "execution_count": 115,
   "outputs": [
    {
     "data": {
      "text/plain": "      year state  district     democrat_candidate republican_candidate  \\\n184   1976    NY         5    ALLARD K LOWENSTEIN        JOHN W WYDLER   \n2222  1992    CA        33  LUCILLE ROYABL-ALLARD        ROBERT GUZMAN   \n2782  1996    CA        33  LUCILLE ROYBAL-ALLARD       JOHN P LEONARD   \n3086  1998    CA        33  LUCILLE ROYBAL-ALLARD         WAYNE MILLER   \n3347  2000    CA        33  LUCILLE ROYBAL-ALLARD         WAYNE MILLER   \n3635  2002    CA        34  LUCILLE ROYBAL-ALLARD         WAYNE MILLER   \n3905  2004    CA        34  LUCILLE ROYBAL-ALLARD         WAYNE MILLER   \n4182  2006    CA        34  LUCILLE ROYBAL-ALLARD         WAYNE MILLER   \n4483  2008    CA        34  LUCILLE ROYBAL-ALLARD  CHRISTOPHER BALDING   \n4803  2010    CA        34  LUCILLE ROYBAL-ALLARD         WAYNE MILLER   \n5051  2010    SC         3      JANE BALLARD DYER          JEFF DUNCAN   \n6417  2020    CA        40  LUCILLE ROYBAL-ALLARD    C ANTONIO DELGADO   \n\n      total_demrep_votes      winner  dem_margin unaccentedGivenName  \\\n184               181219  Republican   -0.085284                JOHN   \n2222               47438    Democrat    0.349551             LUCILLE   \n2782               55625    Democrat    0.707074             LUCILLE   \n3086               49674    Democrat    0.743769             LUCILLE   \n3347               68770    Democrat    0.759779             LUCILLE   \n3635               65824    Democrat    0.480737             LUCILLE   \n3905              110457    Democrat    0.489847             LUCILLE   \n4182               74818    Democrat    0.535967             LUCILLE   \n4483              127769    Democrat    0.541892             LUCILLE   \n4803               89839    Democrat    0.544585             LUCILLE   \n5051              192732  Republican   -0.309954                JEFF   \n6417              186381    Democrat    0.454783             LUCILLE   \n\n     unaccentedFamilyName  ageDuringElection  \n184                WYDLER                 52  \n2222        ROYBAL-ALLARD                 51  \n2782        ROYBAL-ALLARD                 55  \n3086        ROYBAL-ALLARD                 57  \n3347        ROYBAL-ALLARD                 59  \n3635        ROYBAL-ALLARD                 61  \n3905        ROYBAL-ALLARD                 63  \n4182        ROYBAL-ALLARD                 65  \n4483        ROYBAL-ALLARD                 67  \n4803        ROYBAL-ALLARD                 69  \n5051               DUNCAN                 44  \n6417        ROYBAL-ALLARD                 79  ",
      "text/html": "<div>\n<style scoped>\n    .dataframe tbody tr th:only-of-type {\n        vertical-align: middle;\n    }\n\n    .dataframe tbody tr th {\n        vertical-align: top;\n    }\n\n    .dataframe thead th {\n        text-align: right;\n    }\n</style>\n<table border=\"1\" class=\"dataframe\">\n  <thead>\n    <tr style=\"text-align: right;\">\n      <th></th>\n      <th>year</th>\n      <th>state</th>\n      <th>district</th>\n      <th>democrat_candidate</th>\n      <th>republican_candidate</th>\n      <th>total_demrep_votes</th>\n      <th>winner</th>\n      <th>dem_margin</th>\n      <th>unaccentedGivenName</th>\n      <th>unaccentedFamilyName</th>\n      <th>ageDuringElection</th>\n    </tr>\n  </thead>\n  <tbody>\n    <tr>\n      <th>184</th>\n      <td>1976</td>\n      <td>NY</td>\n      <td>5</td>\n      <td>ALLARD K LOWENSTEIN</td>\n      <td>JOHN W WYDLER</td>\n      <td>181219</td>\n      <td>Republican</td>\n      <td>-0.085284</td>\n      <td>JOHN</td>\n      <td>WYDLER</td>\n      <td>52</td>\n    </tr>\n    <tr>\n      <th>2222</th>\n      <td>1992</td>\n      <td>CA</td>\n      <td>33</td>\n      <td>LUCILLE ROYABL-ALLARD</td>\n      <td>ROBERT GUZMAN</td>\n      <td>47438</td>\n      <td>Democrat</td>\n      <td>0.349551</td>\n      <td>LUCILLE</td>\n      <td>ROYBAL-ALLARD</td>\n      <td>51</td>\n    </tr>\n    <tr>\n      <th>2782</th>\n      <td>1996</td>\n      <td>CA</td>\n      <td>33</td>\n      <td>LUCILLE ROYBAL-ALLARD</td>\n      <td>JOHN P LEONARD</td>\n      <td>55625</td>\n      <td>Democrat</td>\n      <td>0.707074</td>\n      <td>LUCILLE</td>\n      <td>ROYBAL-ALLARD</td>\n      <td>55</td>\n    </tr>\n    <tr>\n      <th>3086</th>\n      <td>1998</td>\n      <td>CA</td>\n      <td>33</td>\n      <td>LUCILLE ROYBAL-ALLARD</td>\n      <td>WAYNE MILLER</td>\n      <td>49674</td>\n      <td>Democrat</td>\n      <td>0.743769</td>\n      <td>LUCILLE</td>\n      <td>ROYBAL-ALLARD</td>\n      <td>57</td>\n    </tr>\n    <tr>\n      <th>3347</th>\n      <td>2000</td>\n      <td>CA</td>\n      <td>33</td>\n      <td>LUCILLE ROYBAL-ALLARD</td>\n      <td>WAYNE MILLER</td>\n      <td>68770</td>\n      <td>Democrat</td>\n      <td>0.759779</td>\n      <td>LUCILLE</td>\n      <td>ROYBAL-ALLARD</td>\n      <td>59</td>\n    </tr>\n    <tr>\n      <th>3635</th>\n      <td>2002</td>\n      <td>CA</td>\n      <td>34</td>\n      <td>LUCILLE ROYBAL-ALLARD</td>\n      <td>WAYNE MILLER</td>\n      <td>65824</td>\n      <td>Democrat</td>\n      <td>0.480737</td>\n      <td>LUCILLE</td>\n      <td>ROYBAL-ALLARD</td>\n      <td>61</td>\n    </tr>\n    <tr>\n      <th>3905</th>\n      <td>2004</td>\n      <td>CA</td>\n      <td>34</td>\n      <td>LUCILLE ROYBAL-ALLARD</td>\n      <td>WAYNE MILLER</td>\n      <td>110457</td>\n      <td>Democrat</td>\n      <td>0.489847</td>\n      <td>LUCILLE</td>\n      <td>ROYBAL-ALLARD</td>\n      <td>63</td>\n    </tr>\n    <tr>\n      <th>4182</th>\n      <td>2006</td>\n      <td>CA</td>\n      <td>34</td>\n      <td>LUCILLE ROYBAL-ALLARD</td>\n      <td>WAYNE MILLER</td>\n      <td>74818</td>\n      <td>Democrat</td>\n      <td>0.535967</td>\n      <td>LUCILLE</td>\n      <td>ROYBAL-ALLARD</td>\n      <td>65</td>\n    </tr>\n    <tr>\n      <th>4483</th>\n      <td>2008</td>\n      <td>CA</td>\n      <td>34</td>\n      <td>LUCILLE ROYBAL-ALLARD</td>\n      <td>CHRISTOPHER BALDING</td>\n      <td>127769</td>\n      <td>Democrat</td>\n      <td>0.541892</td>\n      <td>LUCILLE</td>\n      <td>ROYBAL-ALLARD</td>\n      <td>67</td>\n    </tr>\n    <tr>\n      <th>4803</th>\n      <td>2010</td>\n      <td>CA</td>\n      <td>34</td>\n      <td>LUCILLE ROYBAL-ALLARD</td>\n      <td>WAYNE MILLER</td>\n      <td>89839</td>\n      <td>Democrat</td>\n      <td>0.544585</td>\n      <td>LUCILLE</td>\n      <td>ROYBAL-ALLARD</td>\n      <td>69</td>\n    </tr>\n    <tr>\n      <th>5051</th>\n      <td>2010</td>\n      <td>SC</td>\n      <td>3</td>\n      <td>JANE BALLARD DYER</td>\n      <td>JEFF DUNCAN</td>\n      <td>192732</td>\n      <td>Republican</td>\n      <td>-0.309954</td>\n      <td>JEFF</td>\n      <td>DUNCAN</td>\n      <td>44</td>\n    </tr>\n    <tr>\n      <th>6417</th>\n      <td>2020</td>\n      <td>CA</td>\n      <td>40</td>\n      <td>LUCILLE ROYBAL-ALLARD</td>\n      <td>C ANTONIO DELGADO</td>\n      <td>186381</td>\n      <td>Democrat</td>\n      <td>0.454783</td>\n      <td>LUCILLE</td>\n      <td>ROYBAL-ALLARD</td>\n      <td>79</td>\n    </tr>\n  </tbody>\n</table>\n</div>"
     },
     "execution_count": 115,
     "metadata": {},
     "output_type": "execute_result"
    }
   ],
   "source": [
    "joined_df[joined_df['democrat_candidate'].str.contains(\"ALLARD\")]"
   ],
   "metadata": {
    "collapsed": false
   }
  },
  {
   "cell_type": "code",
   "execution_count": 116,
   "outputs": [
    {
     "data": {
      "text/plain": "Empty DataFrame\nColumns: [year, state, district, democrat_candidate, republican_candidate, total_demrep_votes, winner, dem_margin, unaccentedGivenName, unaccentedFamilyName, ageDuringElection]\nIndex: []",
      "text/html": "<div>\n<style scoped>\n    .dataframe tbody tr th:only-of-type {\n        vertical-align: middle;\n    }\n\n    .dataframe tbody tr th {\n        vertical-align: top;\n    }\n\n    .dataframe thead th {\n        text-align: right;\n    }\n</style>\n<table border=\"1\" class=\"dataframe\">\n  <thead>\n    <tr style=\"text-align: right;\">\n      <th></th>\n      <th>year</th>\n      <th>state</th>\n      <th>district</th>\n      <th>democrat_candidate</th>\n      <th>republican_candidate</th>\n      <th>total_demrep_votes</th>\n      <th>winner</th>\n      <th>dem_margin</th>\n      <th>unaccentedGivenName</th>\n      <th>unaccentedFamilyName</th>\n      <th>ageDuringElection</th>\n    </tr>\n  </thead>\n  <tbody>\n  </tbody>\n</table>\n</div>"
     },
     "execution_count": 116,
     "metadata": {},
     "output_type": "execute_result"
    }
   ],
   "source": [
    "joined_df['democrat_candidate'] = joined_df['democrat_candidate'].str.replace(\"-\", \" \")\n",
    "joined_df['republican_candidate'] = joined_df['republican_candidate'].str.replace(\"-\", \" \")\n",
    "joined_df['unaccentedFamilyName'] = joined_df['unaccentedFamilyName'].str.replace(\"-\", \" \")\n",
    "joined_df['unaccentedFamilyName'] = joined_df['unaccentedFamilyName'].str.replace(\".\", \"\")\n",
    "joined_df['unaccentedFamilyName'] = joined_df['unaccentedFamilyName'].str.replace(\",\", \"\")\n",
    "joined_df.loc[2222, 'democrat_candidate'] = \"ROYBAL ALLARD\"\n",
    "joined_df[joined_df.apply(lambda row: row['unaccentedFamilyName'] not in row['democrat_candidate'] and row['unaccentedFamilyName'] not in row['republican_candidate'], axis=1)]"
   ],
   "metadata": {
    "collapsed": false
   }
  },
  {
   "cell_type": "code",
   "execution_count": 117,
   "outputs": [
    {
     "data": {
      "text/plain": "      year state  district prior_winner_party prior_winner_given_name  \\\n0     1978    AL         2         Republican                 WILLIAM   \n1     1978    AL         4           Democrat                     TOM   \n2     1978    AL         6         Republican                    JOHN   \n3     1978    AZ         1         Republican                    JOHN   \n4     1978    AZ         2           Democrat                  MORRIS   \n...    ...   ...       ...                ...                     ...   \n6891  2024    WA         9           Democrat                    ADAM   \n6892  2024    WV         1         Republican                   CAROL   \n6893  2024    WI         1         Republican                   BRYAN   \n6894  2024    WI         2           Democrat                    MARK   \n6895  2024    WI         7         Republican                  THOMAS   \n\n     prior_winner_family_name  previous_winner_age  \n0                   DICKINSON                   51  \n1                      BEVILL                   55  \n2                    BUCHANAN                   48  \n3                      RHODES                   60  \n4                       UDALL                   54  \n...                       ...                  ...  \n6891                    SMITH                   57  \n6892                   MILLER                   72  \n6893                    STEIL                   41  \n6894                    POCAN                   58  \n6895                  TIFFANY                   65  \n\n[6831 rows x 7 columns]",
      "text/html": "<div>\n<style scoped>\n    .dataframe tbody tr th:only-of-type {\n        vertical-align: middle;\n    }\n\n    .dataframe tbody tr th {\n        vertical-align: top;\n    }\n\n    .dataframe thead th {\n        text-align: right;\n    }\n</style>\n<table border=\"1\" class=\"dataframe\">\n  <thead>\n    <tr style=\"text-align: right;\">\n      <th></th>\n      <th>year</th>\n      <th>state</th>\n      <th>district</th>\n      <th>prior_winner_party</th>\n      <th>prior_winner_given_name</th>\n      <th>prior_winner_family_name</th>\n      <th>previous_winner_age</th>\n    </tr>\n  </thead>\n  <tbody>\n    <tr>\n      <th>0</th>\n      <td>1978</td>\n      <td>AL</td>\n      <td>2</td>\n      <td>Republican</td>\n      <td>WILLIAM</td>\n      <td>DICKINSON</td>\n      <td>51</td>\n    </tr>\n    <tr>\n      <th>1</th>\n      <td>1978</td>\n      <td>AL</td>\n      <td>4</td>\n      <td>Democrat</td>\n      <td>TOM</td>\n      <td>BEVILL</td>\n      <td>55</td>\n    </tr>\n    <tr>\n      <th>2</th>\n      <td>1978</td>\n      <td>AL</td>\n      <td>6</td>\n      <td>Republican</td>\n      <td>JOHN</td>\n      <td>BUCHANAN</td>\n      <td>48</td>\n    </tr>\n    <tr>\n      <th>3</th>\n      <td>1978</td>\n      <td>AZ</td>\n      <td>1</td>\n      <td>Republican</td>\n      <td>JOHN</td>\n      <td>RHODES</td>\n      <td>60</td>\n    </tr>\n    <tr>\n      <th>4</th>\n      <td>1978</td>\n      <td>AZ</td>\n      <td>2</td>\n      <td>Democrat</td>\n      <td>MORRIS</td>\n      <td>UDALL</td>\n      <td>54</td>\n    </tr>\n    <tr>\n      <th>...</th>\n      <td>...</td>\n      <td>...</td>\n      <td>...</td>\n      <td>...</td>\n      <td>...</td>\n      <td>...</td>\n      <td>...</td>\n    </tr>\n    <tr>\n      <th>6891</th>\n      <td>2024</td>\n      <td>WA</td>\n      <td>9</td>\n      <td>Democrat</td>\n      <td>ADAM</td>\n      <td>SMITH</td>\n      <td>57</td>\n    </tr>\n    <tr>\n      <th>6892</th>\n      <td>2024</td>\n      <td>WV</td>\n      <td>1</td>\n      <td>Republican</td>\n      <td>CAROL</td>\n      <td>MILLER</td>\n      <td>72</td>\n    </tr>\n    <tr>\n      <th>6893</th>\n      <td>2024</td>\n      <td>WI</td>\n      <td>1</td>\n      <td>Republican</td>\n      <td>BRYAN</td>\n      <td>STEIL</td>\n      <td>41</td>\n    </tr>\n    <tr>\n      <th>6894</th>\n      <td>2024</td>\n      <td>WI</td>\n      <td>2</td>\n      <td>Democrat</td>\n      <td>MARK</td>\n      <td>POCAN</td>\n      <td>58</td>\n    </tr>\n    <tr>\n      <th>6895</th>\n      <td>2024</td>\n      <td>WI</td>\n      <td>7</td>\n      <td>Republican</td>\n      <td>THOMAS</td>\n      <td>TIFFANY</td>\n      <td>65</td>\n    </tr>\n  </tbody>\n</table>\n<p>6831 rows × 7 columns</p>\n</div>"
     },
     "execution_count": 117,
     "metadata": {},
     "output_type": "execute_result"
    }
   ],
   "source": [
    "prior_winners = joined_df.copy()\n",
    "prior_winners['year'] = prior_winners['year'] + 2  # Shift the year by two years\n",
    "\n",
    "# Extract only the necessary columns\n",
    "prior_winners = prior_winners[['year', 'state', 'district', 'winner', 'unaccentedGivenName', 'unaccentedFamilyName', 'ageDuringElection']]\n",
    "\n",
    "# Rename the columns for clarity when merging later\n",
    "prior_winners.columns = ['year', 'state', 'district', 'prior_winner_party', 'prior_winner_given_name', 'prior_winner_family_name', 'previous_winner_age']\n",
    "\n",
    "prior_winners"
   ],
   "metadata": {
    "collapsed": false
   }
  },
  {
   "cell_type": "code",
   "execution_count": 118,
   "outputs": [
    {
     "data": {
      "text/plain": "      year state  district      democrat_candidate  \\\n0     1976    AL         2         J CAROLE KEAHEY   \n1     1976    AL         4              TOM BEVILL   \n2     1976    AL         6              MEL BAILEY   \n3     1976    AZ         1  PATRICIA M FULLINWIDER   \n4     1976    AZ         2          MORRIS K UDALL   \n...    ...   ...       ...                     ...   \n6826  2022    WA         9              ADAM SMITH   \n6827  2022    WV         1             LACY WATSON   \n6828  2022    WI         1                 ANN ROE   \n6829  2022    WI         2              MARK POCAN   \n6830  2022    WI         7     RICHARD DICK AUSMAN   \n\n            republican_candidate  total_demrep_votes      winner  dem_margin  \\\n0     WILLIAM L \"BILL\" DICKINSON              156357  Republican   -0.152094   \n1                 LEONARD WILSON              176021    Democrat    0.607649   \n2             JOHN H BUCHANAN JR              161497  Republican   -0.140739   \n3                  JOHN J RHODES              164801  Republican   -0.169859   \n4                LAIRD GUTTERSEN              177819    Democrat    0.192831   \n...                          ...                 ...         ...         ...   \n6826                 DOUG BASLER              239377    Democrat    0.434942   \n6827              CAROL D MILLER              216939  Republican   -0.396807   \n6828                 BRYAN STEIL              298435  Republican   -0.089752   \n6829                  ERIK OLSEN              370630    Democrat    0.450179   \n6830            THOMAS P TIFFANY              338101  Republican   -0.237642   \n\n     unaccentedGivenName unaccentedFamilyName  ageDuringElection  \\\n0                WILLIAM            DICKINSON                 51   \n1                    TOM               BEVILL                 55   \n2                   JOHN             BUCHANAN                 48   \n3                   JOHN               RHODES                 60   \n4                 MORRIS                UDALL                 54   \n...                  ...                  ...                ...   \n6826                ADAM                SMITH                 57   \n6827               CAROL               MILLER                 72   \n6828               BRYAN                STEIL                 41   \n6829                MARK                POCAN                 58   \n6830              THOMAS              TIFFANY                 65   \n\n     prior_winner_party prior_winner_given_name prior_winner_family_name  \\\n0                   NaN                     NaN                      NaN   \n1                   NaN                     NaN                      NaN   \n2                   NaN                     NaN                      NaN   \n3                   NaN                     NaN                      NaN   \n4                   NaN                     NaN                      NaN   \n...                 ...                     ...                      ...   \n6826           Democrat                    ADAM                    SMITH   \n6827         Republican                   DAVID                 MCKINLEY   \n6828         Republican                   BRYAN                    STEIL   \n6829           Democrat                    MARK                    POCAN   \n6830         Republican                  THOMAS                  TIFFANY   \n\n      previous_winner_age  \n0                     NaN  \n1                     NaN  \n2                     NaN  \n3                     NaN  \n4                     NaN  \n...                   ...  \n6826                 55.0  \n6827                 73.0  \n6828                 39.0  \n6829                 56.0  \n6830                 63.0  \n\n[6831 rows x 15 columns]",
      "text/html": "<div>\n<style scoped>\n    .dataframe tbody tr th:only-of-type {\n        vertical-align: middle;\n    }\n\n    .dataframe tbody tr th {\n        vertical-align: top;\n    }\n\n    .dataframe thead th {\n        text-align: right;\n    }\n</style>\n<table border=\"1\" class=\"dataframe\">\n  <thead>\n    <tr style=\"text-align: right;\">\n      <th></th>\n      <th>year</th>\n      <th>state</th>\n      <th>district</th>\n      <th>democrat_candidate</th>\n      <th>republican_candidate</th>\n      <th>total_demrep_votes</th>\n      <th>winner</th>\n      <th>dem_margin</th>\n      <th>unaccentedGivenName</th>\n      <th>unaccentedFamilyName</th>\n      <th>ageDuringElection</th>\n      <th>prior_winner_party</th>\n      <th>prior_winner_given_name</th>\n      <th>prior_winner_family_name</th>\n      <th>previous_winner_age</th>\n    </tr>\n  </thead>\n  <tbody>\n    <tr>\n      <th>0</th>\n      <td>1976</td>\n      <td>AL</td>\n      <td>2</td>\n      <td>J CAROLE KEAHEY</td>\n      <td>WILLIAM L \"BILL\" DICKINSON</td>\n      <td>156357</td>\n      <td>Republican</td>\n      <td>-0.152094</td>\n      <td>WILLIAM</td>\n      <td>DICKINSON</td>\n      <td>51</td>\n      <td>NaN</td>\n      <td>NaN</td>\n      <td>NaN</td>\n      <td>NaN</td>\n    </tr>\n    <tr>\n      <th>1</th>\n      <td>1976</td>\n      <td>AL</td>\n      <td>4</td>\n      <td>TOM BEVILL</td>\n      <td>LEONARD WILSON</td>\n      <td>176021</td>\n      <td>Democrat</td>\n      <td>0.607649</td>\n      <td>TOM</td>\n      <td>BEVILL</td>\n      <td>55</td>\n      <td>NaN</td>\n      <td>NaN</td>\n      <td>NaN</td>\n      <td>NaN</td>\n    </tr>\n    <tr>\n      <th>2</th>\n      <td>1976</td>\n      <td>AL</td>\n      <td>6</td>\n      <td>MEL BAILEY</td>\n      <td>JOHN H BUCHANAN JR</td>\n      <td>161497</td>\n      <td>Republican</td>\n      <td>-0.140739</td>\n      <td>JOHN</td>\n      <td>BUCHANAN</td>\n      <td>48</td>\n      <td>NaN</td>\n      <td>NaN</td>\n      <td>NaN</td>\n      <td>NaN</td>\n    </tr>\n    <tr>\n      <th>3</th>\n      <td>1976</td>\n      <td>AZ</td>\n      <td>1</td>\n      <td>PATRICIA M FULLINWIDER</td>\n      <td>JOHN J RHODES</td>\n      <td>164801</td>\n      <td>Republican</td>\n      <td>-0.169859</td>\n      <td>JOHN</td>\n      <td>RHODES</td>\n      <td>60</td>\n      <td>NaN</td>\n      <td>NaN</td>\n      <td>NaN</td>\n      <td>NaN</td>\n    </tr>\n    <tr>\n      <th>4</th>\n      <td>1976</td>\n      <td>AZ</td>\n      <td>2</td>\n      <td>MORRIS K UDALL</td>\n      <td>LAIRD GUTTERSEN</td>\n      <td>177819</td>\n      <td>Democrat</td>\n      <td>0.192831</td>\n      <td>MORRIS</td>\n      <td>UDALL</td>\n      <td>54</td>\n      <td>NaN</td>\n      <td>NaN</td>\n      <td>NaN</td>\n      <td>NaN</td>\n    </tr>\n    <tr>\n      <th>...</th>\n      <td>...</td>\n      <td>...</td>\n      <td>...</td>\n      <td>...</td>\n      <td>...</td>\n      <td>...</td>\n      <td>...</td>\n      <td>...</td>\n      <td>...</td>\n      <td>...</td>\n      <td>...</td>\n      <td>...</td>\n      <td>...</td>\n      <td>...</td>\n      <td>...</td>\n    </tr>\n    <tr>\n      <th>6826</th>\n      <td>2022</td>\n      <td>WA</td>\n      <td>9</td>\n      <td>ADAM SMITH</td>\n      <td>DOUG BASLER</td>\n      <td>239377</td>\n      <td>Democrat</td>\n      <td>0.434942</td>\n      <td>ADAM</td>\n      <td>SMITH</td>\n      <td>57</td>\n      <td>Democrat</td>\n      <td>ADAM</td>\n      <td>SMITH</td>\n      <td>55.0</td>\n    </tr>\n    <tr>\n      <th>6827</th>\n      <td>2022</td>\n      <td>WV</td>\n      <td>1</td>\n      <td>LACY WATSON</td>\n      <td>CAROL D MILLER</td>\n      <td>216939</td>\n      <td>Republican</td>\n      <td>-0.396807</td>\n      <td>CAROL</td>\n      <td>MILLER</td>\n      <td>72</td>\n      <td>Republican</td>\n      <td>DAVID</td>\n      <td>MCKINLEY</td>\n      <td>73.0</td>\n    </tr>\n    <tr>\n      <th>6828</th>\n      <td>2022</td>\n      <td>WI</td>\n      <td>1</td>\n      <td>ANN ROE</td>\n      <td>BRYAN STEIL</td>\n      <td>298435</td>\n      <td>Republican</td>\n      <td>-0.089752</td>\n      <td>BRYAN</td>\n      <td>STEIL</td>\n      <td>41</td>\n      <td>Republican</td>\n      <td>BRYAN</td>\n      <td>STEIL</td>\n      <td>39.0</td>\n    </tr>\n    <tr>\n      <th>6829</th>\n      <td>2022</td>\n      <td>WI</td>\n      <td>2</td>\n      <td>MARK POCAN</td>\n      <td>ERIK OLSEN</td>\n      <td>370630</td>\n      <td>Democrat</td>\n      <td>0.450179</td>\n      <td>MARK</td>\n      <td>POCAN</td>\n      <td>58</td>\n      <td>Democrat</td>\n      <td>MARK</td>\n      <td>POCAN</td>\n      <td>56.0</td>\n    </tr>\n    <tr>\n      <th>6830</th>\n      <td>2022</td>\n      <td>WI</td>\n      <td>7</td>\n      <td>RICHARD DICK AUSMAN</td>\n      <td>THOMAS P TIFFANY</td>\n      <td>338101</td>\n      <td>Republican</td>\n      <td>-0.237642</td>\n      <td>THOMAS</td>\n      <td>TIFFANY</td>\n      <td>65</td>\n      <td>Republican</td>\n      <td>THOMAS</td>\n      <td>TIFFANY</td>\n      <td>63.0</td>\n    </tr>\n  </tbody>\n</table>\n<p>6831 rows × 15 columns</p>\n</div>"
     },
     "execution_count": 118,
     "metadata": {},
     "output_type": "execute_result"
    }
   ],
   "source": [
    "with_prior_winners = pd.merge(joined_df, prior_winners, on=['year', 'state', 'district'], how='left')\n",
    "with_prior_winners"
   ],
   "metadata": {
    "collapsed": false
   }
  },
  {
   "cell_type": "code",
   "execution_count": 119,
   "outputs": [
    {
     "data": {
      "text/plain": "      year state  district   democrat_candidate        republican_candidate  \\\n621   1980    AK         0  KEVIN \"PAT\" PARNELL              DONALD E YOUNG   \n1163  1984    AK         0         PEGGE BEGICH              DONALD E YOUNG   \n5391  2014    AL         1     BURTON R LEFLORE               BRADLEY BYRNE   \n5999  2018    AL         1    ROBERT KENNEDY JR               BRADLEY BYRNE   \n0     1976    AL         2      J CAROLE KEAHEY  WILLIAM L \"BILL\" DICKINSON   \n...    ...   ...       ...                  ...                         ...   \n5390  2012    WY         0     CHRIS HENRICHSEN            CYNTHIA M LUMMIS   \n5688  2014    WY         0      RICHARD GRAYSON            CYNTHIA M LUMMIS   \n5998  2016    WY         0          RYAN GREENE                  LIZ CHENEY   \n6314  2018    WY         0          GREG HUNTER                  LIZ CHENEY   \n6608  2020    WY         0   LYNNETTE GREY BULL                  LIZ CHENEY   \n\n      total_demrep_votes      winner  dem_margin unaccentedGivenName  \\\n621               154011  Republican   -0.481569              DONALD   \n1163              199634  Republican   -0.137902              DONALD   \n5391              152036  Republican   -0.364914             BRADLEY   \n5999              242454  Republican   -0.263976             BRADLEY   \n0                 156357  Republican   -0.152094             WILLIAM   \n...                  ...         ...         ...                 ...   \n5390              224025  Republican   -0.486013             CYNTHIA   \n5688              150841  Republican   -0.498770             CYNTHIA   \n5998              231642  Republican   -0.348426                 LIZ   \n6314              187866  Republican   -0.362279                 LIZ   \n6608              252308  Republican   -0.472264                 LIZ   \n\n     unaccentedFamilyName  ageDuringElection prior_winner_party  \\\n621                 YOUNG                 47                NaN   \n1163                YOUNG                 51                NaN   \n5391                BYRNE                 59                NaN   \n5999                BYRNE                 63                NaN   \n0               DICKINSON                 51                NaN   \n...                   ...                ...                ...   \n5390               LUMMIS                 58         Republican   \n5688               LUMMIS                 60         Republican   \n5998               CHENEY                 50         Republican   \n6314               CHENEY                 52         Republican   \n6608               CHENEY                 54         Republican   \n\n     prior_winner_given_name prior_winner_family_name  previous_winner_age  \\\n621                      NaN                      NaN                  NaN   \n1163                     NaN                      NaN                  NaN   \n5391                     NaN                      NaN                  NaN   \n5999                     NaN                      NaN                  NaN   \n0                        NaN                      NaN                  NaN   \n...                      ...                      ...                  ...   \n5390                 CYNTHIA                   LUMMIS                 56.0   \n5688                 CYNTHIA                   LUMMIS                 58.0   \n5998                 CYNTHIA                   LUMMIS                 60.0   \n6314                     LIZ                   CHENEY                 50.0   \n6608                     LIZ                   CHENEY                 52.0   \n\n       incumbent  \n621         None  \n1163        None  \n5391        None  \n5999        None  \n0           None  \n...          ...  \n5390  Republican  \n5688  Republican  \n5998        None  \n6314  Republican  \n6608  Republican  \n\n[6831 rows x 16 columns]",
      "text/html": "<div>\n<style scoped>\n    .dataframe tbody tr th:only-of-type {\n        vertical-align: middle;\n    }\n\n    .dataframe tbody tr th {\n        vertical-align: top;\n    }\n\n    .dataframe thead th {\n        text-align: right;\n    }\n</style>\n<table border=\"1\" class=\"dataframe\">\n  <thead>\n    <tr style=\"text-align: right;\">\n      <th></th>\n      <th>year</th>\n      <th>state</th>\n      <th>district</th>\n      <th>democrat_candidate</th>\n      <th>republican_candidate</th>\n      <th>total_demrep_votes</th>\n      <th>winner</th>\n      <th>dem_margin</th>\n      <th>unaccentedGivenName</th>\n      <th>unaccentedFamilyName</th>\n      <th>ageDuringElection</th>\n      <th>prior_winner_party</th>\n      <th>prior_winner_given_name</th>\n      <th>prior_winner_family_name</th>\n      <th>previous_winner_age</th>\n      <th>incumbent</th>\n    </tr>\n  </thead>\n  <tbody>\n    <tr>\n      <th>621</th>\n      <td>1980</td>\n      <td>AK</td>\n      <td>0</td>\n      <td>KEVIN \"PAT\" PARNELL</td>\n      <td>DONALD E YOUNG</td>\n      <td>154011</td>\n      <td>Republican</td>\n      <td>-0.481569</td>\n      <td>DONALD</td>\n      <td>YOUNG</td>\n      <td>47</td>\n      <td>NaN</td>\n      <td>NaN</td>\n      <td>NaN</td>\n      <td>NaN</td>\n      <td>None</td>\n    </tr>\n    <tr>\n      <th>1163</th>\n      <td>1984</td>\n      <td>AK</td>\n      <td>0</td>\n      <td>PEGGE BEGICH</td>\n      <td>DONALD E YOUNG</td>\n      <td>199634</td>\n      <td>Republican</td>\n      <td>-0.137902</td>\n      <td>DONALD</td>\n      <td>YOUNG</td>\n      <td>51</td>\n      <td>NaN</td>\n      <td>NaN</td>\n      <td>NaN</td>\n      <td>NaN</td>\n      <td>None</td>\n    </tr>\n    <tr>\n      <th>5391</th>\n      <td>2014</td>\n      <td>AL</td>\n      <td>1</td>\n      <td>BURTON R LEFLORE</td>\n      <td>BRADLEY BYRNE</td>\n      <td>152036</td>\n      <td>Republican</td>\n      <td>-0.364914</td>\n      <td>BRADLEY</td>\n      <td>BYRNE</td>\n      <td>59</td>\n      <td>NaN</td>\n      <td>NaN</td>\n      <td>NaN</td>\n      <td>NaN</td>\n      <td>None</td>\n    </tr>\n    <tr>\n      <th>5999</th>\n      <td>2018</td>\n      <td>AL</td>\n      <td>1</td>\n      <td>ROBERT KENNEDY JR</td>\n      <td>BRADLEY BYRNE</td>\n      <td>242454</td>\n      <td>Republican</td>\n      <td>-0.263976</td>\n      <td>BRADLEY</td>\n      <td>BYRNE</td>\n      <td>63</td>\n      <td>NaN</td>\n      <td>NaN</td>\n      <td>NaN</td>\n      <td>NaN</td>\n      <td>None</td>\n    </tr>\n    <tr>\n      <th>0</th>\n      <td>1976</td>\n      <td>AL</td>\n      <td>2</td>\n      <td>J CAROLE KEAHEY</td>\n      <td>WILLIAM L \"BILL\" DICKINSON</td>\n      <td>156357</td>\n      <td>Republican</td>\n      <td>-0.152094</td>\n      <td>WILLIAM</td>\n      <td>DICKINSON</td>\n      <td>51</td>\n      <td>NaN</td>\n      <td>NaN</td>\n      <td>NaN</td>\n      <td>NaN</td>\n      <td>None</td>\n    </tr>\n    <tr>\n      <th>...</th>\n      <td>...</td>\n      <td>...</td>\n      <td>...</td>\n      <td>...</td>\n      <td>...</td>\n      <td>...</td>\n      <td>...</td>\n      <td>...</td>\n      <td>...</td>\n      <td>...</td>\n      <td>...</td>\n      <td>...</td>\n      <td>...</td>\n      <td>...</td>\n      <td>...</td>\n      <td>...</td>\n    </tr>\n    <tr>\n      <th>5390</th>\n      <td>2012</td>\n      <td>WY</td>\n      <td>0</td>\n      <td>CHRIS HENRICHSEN</td>\n      <td>CYNTHIA M LUMMIS</td>\n      <td>224025</td>\n      <td>Republican</td>\n      <td>-0.486013</td>\n      <td>CYNTHIA</td>\n      <td>LUMMIS</td>\n      <td>58</td>\n      <td>Republican</td>\n      <td>CYNTHIA</td>\n      <td>LUMMIS</td>\n      <td>56.0</td>\n      <td>Republican</td>\n    </tr>\n    <tr>\n      <th>5688</th>\n      <td>2014</td>\n      <td>WY</td>\n      <td>0</td>\n      <td>RICHARD GRAYSON</td>\n      <td>CYNTHIA M LUMMIS</td>\n      <td>150841</td>\n      <td>Republican</td>\n      <td>-0.498770</td>\n      <td>CYNTHIA</td>\n      <td>LUMMIS</td>\n      <td>60</td>\n      <td>Republican</td>\n      <td>CYNTHIA</td>\n      <td>LUMMIS</td>\n      <td>58.0</td>\n      <td>Republican</td>\n    </tr>\n    <tr>\n      <th>5998</th>\n      <td>2016</td>\n      <td>WY</td>\n      <td>0</td>\n      <td>RYAN GREENE</td>\n      <td>LIZ CHENEY</td>\n      <td>231642</td>\n      <td>Republican</td>\n      <td>-0.348426</td>\n      <td>LIZ</td>\n      <td>CHENEY</td>\n      <td>50</td>\n      <td>Republican</td>\n      <td>CYNTHIA</td>\n      <td>LUMMIS</td>\n      <td>60.0</td>\n      <td>None</td>\n    </tr>\n    <tr>\n      <th>6314</th>\n      <td>2018</td>\n      <td>WY</td>\n      <td>0</td>\n      <td>GREG HUNTER</td>\n      <td>LIZ CHENEY</td>\n      <td>187866</td>\n      <td>Republican</td>\n      <td>-0.362279</td>\n      <td>LIZ</td>\n      <td>CHENEY</td>\n      <td>52</td>\n      <td>Republican</td>\n      <td>LIZ</td>\n      <td>CHENEY</td>\n      <td>50.0</td>\n      <td>Republican</td>\n    </tr>\n    <tr>\n      <th>6608</th>\n      <td>2020</td>\n      <td>WY</td>\n      <td>0</td>\n      <td>LYNNETTE GREY BULL</td>\n      <td>LIZ CHENEY</td>\n      <td>252308</td>\n      <td>Republican</td>\n      <td>-0.472264</td>\n      <td>LIZ</td>\n      <td>CHENEY</td>\n      <td>54</td>\n      <td>Republican</td>\n      <td>LIZ</td>\n      <td>CHENEY</td>\n      <td>52.0</td>\n      <td>Republican</td>\n    </tr>\n  </tbody>\n</table>\n<p>6831 rows × 16 columns</p>\n</div>"
     },
     "execution_count": 119,
     "metadata": {},
     "output_type": "execute_result"
    }
   ],
   "source": [
    "def determine_incumbent(row):\n",
    "    if pd.isnull(row['prior_winner_family_name']):\n",
    "        return \"None\"\n",
    "    if row['prior_winner_family_name'] in row['democrat_candidate']:\n",
    "        return \"Democrat\"\n",
    "    if row['prior_winner_family_name'] in row['republican_candidate']:\n",
    "        return \"Republican\"\n",
    "    return \"None\"\n",
    "\n",
    "# Apply the determine_incumbent function to each row\n",
    "with_prior_winners['incumbent'] = with_prior_winners.apply(determine_incumbent, axis=1)\n",
    "with_prior_winners = with_prior_winners.sort_values(by=['state', 'district', 'year'])\n",
    "with_prior_winners"
   ],
   "metadata": {
    "collapsed": false
   }
  },
  {
   "cell_type": "code",
   "execution_count": 120,
   "outputs": [
    {
     "data": {
      "text/plain": "      year state  district   democrat_candidate        republican_candidate  \\\n621   1980    AK         0  KEVIN \"PAT\" PARNELL              DONALD E YOUNG   \n1163  1984    AK         0         PEGGE BEGICH              DONALD E YOUNG   \n5391  2014    AL         1     BURTON R LEFLORE               BRADLEY BYRNE   \n5999  2018    AL         1    ROBERT KENNEDY JR               BRADLEY BYRNE   \n0     1976    AL         2      J CAROLE KEAHEY  WILLIAM L \"BILL\" DICKINSON   \n...    ...   ...       ...                  ...                         ...   \n5390  2012    WY         0     CHRIS HENRICHSEN            CYNTHIA M LUMMIS   \n5688  2014    WY         0      RICHARD GRAYSON            CYNTHIA M LUMMIS   \n5998  2016    WY         0          RYAN GREENE                  LIZ CHENEY   \n6314  2018    WY         0          GREG HUNTER                  LIZ CHENEY   \n6608  2020    WY         0   LYNNETTE GREY BULL                  LIZ CHENEY   \n\n      total_demrep_votes      winner  dem_margin unaccentedGivenName  \\\n621               154011  Republican   -0.481569              DONALD   \n1163              199634  Republican   -0.137902              DONALD   \n5391              152036  Republican   -0.364914             BRADLEY   \n5999              242454  Republican   -0.263976             BRADLEY   \n0                 156357  Republican   -0.152094             WILLIAM   \n...                  ...         ...         ...                 ...   \n5390              224025  Republican   -0.486013             CYNTHIA   \n5688              150841  Republican   -0.498770             CYNTHIA   \n5998              231642  Republican   -0.348426                 LIZ   \n6314              187866  Republican   -0.362279                 LIZ   \n6608              252308  Republican   -0.472264                 LIZ   \n\n     unaccentedFamilyName  ageDuringElection prior_winner_party  \\\n621                 YOUNG                 47                NaN   \n1163                YOUNG                 51                NaN   \n5391                BYRNE                 59                NaN   \n5999                BYRNE                 63                NaN   \n0               DICKINSON                 51                NaN   \n...                   ...                ...                ...   \n5390               LUMMIS                 58         Republican   \n5688               LUMMIS                 60         Republican   \n5998               CHENEY                 50         Republican   \n6314               CHENEY                 52         Republican   \n6608               CHENEY                 54         Republican   \n\n     prior_winner_given_name prior_winner_family_name  previous_winner_age  \\\n621                      NaN                      NaN                  NaN   \n1163                     NaN                      NaN                  NaN   \n5391                     NaN                      NaN                  NaN   \n5999                     NaN                      NaN                  NaN   \n0                        NaN                      NaN                  NaN   \n...                      ...                      ...                  ...   \n5390                 CYNTHIA                   LUMMIS                 56.0   \n5688                 CYNTHIA                   LUMMIS                 58.0   \n5998                 CYNTHIA                   LUMMIS                 60.0   \n6314                     LIZ                   CHENEY                 50.0   \n6608                     LIZ                   CHENEY                 52.0   \n\n       incumbent  incumbency_count  \n621         None                 0  \n1163        None                 0  \n5391        None                 0  \n5999        None                 0  \n0           None                 0  \n...          ...               ...  \n5390  Republican                 2  \n5688  Republican                 3  \n5998        None                 0  \n6314  Republican                 1  \n6608  Republican                 2  \n\n[6831 rows x 17 columns]",
      "text/html": "<div>\n<style scoped>\n    .dataframe tbody tr th:only-of-type {\n        vertical-align: middle;\n    }\n\n    .dataframe tbody tr th {\n        vertical-align: top;\n    }\n\n    .dataframe thead th {\n        text-align: right;\n    }\n</style>\n<table border=\"1\" class=\"dataframe\">\n  <thead>\n    <tr style=\"text-align: right;\">\n      <th></th>\n      <th>year</th>\n      <th>state</th>\n      <th>district</th>\n      <th>democrat_candidate</th>\n      <th>republican_candidate</th>\n      <th>total_demrep_votes</th>\n      <th>winner</th>\n      <th>dem_margin</th>\n      <th>unaccentedGivenName</th>\n      <th>unaccentedFamilyName</th>\n      <th>ageDuringElection</th>\n      <th>prior_winner_party</th>\n      <th>prior_winner_given_name</th>\n      <th>prior_winner_family_name</th>\n      <th>previous_winner_age</th>\n      <th>incumbent</th>\n      <th>incumbency_count</th>\n    </tr>\n  </thead>\n  <tbody>\n    <tr>\n      <th>621</th>\n      <td>1980</td>\n      <td>AK</td>\n      <td>0</td>\n      <td>KEVIN \"PAT\" PARNELL</td>\n      <td>DONALD E YOUNG</td>\n      <td>154011</td>\n      <td>Republican</td>\n      <td>-0.481569</td>\n      <td>DONALD</td>\n      <td>YOUNG</td>\n      <td>47</td>\n      <td>NaN</td>\n      <td>NaN</td>\n      <td>NaN</td>\n      <td>NaN</td>\n      <td>None</td>\n      <td>0</td>\n    </tr>\n    <tr>\n      <th>1163</th>\n      <td>1984</td>\n      <td>AK</td>\n      <td>0</td>\n      <td>PEGGE BEGICH</td>\n      <td>DONALD E YOUNG</td>\n      <td>199634</td>\n      <td>Republican</td>\n      <td>-0.137902</td>\n      <td>DONALD</td>\n      <td>YOUNG</td>\n      <td>51</td>\n      <td>NaN</td>\n      <td>NaN</td>\n      <td>NaN</td>\n      <td>NaN</td>\n      <td>None</td>\n      <td>0</td>\n    </tr>\n    <tr>\n      <th>5391</th>\n      <td>2014</td>\n      <td>AL</td>\n      <td>1</td>\n      <td>BURTON R LEFLORE</td>\n      <td>BRADLEY BYRNE</td>\n      <td>152036</td>\n      <td>Republican</td>\n      <td>-0.364914</td>\n      <td>BRADLEY</td>\n      <td>BYRNE</td>\n      <td>59</td>\n      <td>NaN</td>\n      <td>NaN</td>\n      <td>NaN</td>\n      <td>NaN</td>\n      <td>None</td>\n      <td>0</td>\n    </tr>\n    <tr>\n      <th>5999</th>\n      <td>2018</td>\n      <td>AL</td>\n      <td>1</td>\n      <td>ROBERT KENNEDY JR</td>\n      <td>BRADLEY BYRNE</td>\n      <td>242454</td>\n      <td>Republican</td>\n      <td>-0.263976</td>\n      <td>BRADLEY</td>\n      <td>BYRNE</td>\n      <td>63</td>\n      <td>NaN</td>\n      <td>NaN</td>\n      <td>NaN</td>\n      <td>NaN</td>\n      <td>None</td>\n      <td>0</td>\n    </tr>\n    <tr>\n      <th>0</th>\n      <td>1976</td>\n      <td>AL</td>\n      <td>2</td>\n      <td>J CAROLE KEAHEY</td>\n      <td>WILLIAM L \"BILL\" DICKINSON</td>\n      <td>156357</td>\n      <td>Republican</td>\n      <td>-0.152094</td>\n      <td>WILLIAM</td>\n      <td>DICKINSON</td>\n      <td>51</td>\n      <td>NaN</td>\n      <td>NaN</td>\n      <td>NaN</td>\n      <td>NaN</td>\n      <td>None</td>\n      <td>0</td>\n    </tr>\n    <tr>\n      <th>...</th>\n      <td>...</td>\n      <td>...</td>\n      <td>...</td>\n      <td>...</td>\n      <td>...</td>\n      <td>...</td>\n      <td>...</td>\n      <td>...</td>\n      <td>...</td>\n      <td>...</td>\n      <td>...</td>\n      <td>...</td>\n      <td>...</td>\n      <td>...</td>\n      <td>...</td>\n      <td>...</td>\n      <td>...</td>\n    </tr>\n    <tr>\n      <th>5390</th>\n      <td>2012</td>\n      <td>WY</td>\n      <td>0</td>\n      <td>CHRIS HENRICHSEN</td>\n      <td>CYNTHIA M LUMMIS</td>\n      <td>224025</td>\n      <td>Republican</td>\n      <td>-0.486013</td>\n      <td>CYNTHIA</td>\n      <td>LUMMIS</td>\n      <td>58</td>\n      <td>Republican</td>\n      <td>CYNTHIA</td>\n      <td>LUMMIS</td>\n      <td>56.0</td>\n      <td>Republican</td>\n      <td>2</td>\n    </tr>\n    <tr>\n      <th>5688</th>\n      <td>2014</td>\n      <td>WY</td>\n      <td>0</td>\n      <td>RICHARD GRAYSON</td>\n      <td>CYNTHIA M LUMMIS</td>\n      <td>150841</td>\n      <td>Republican</td>\n      <td>-0.498770</td>\n      <td>CYNTHIA</td>\n      <td>LUMMIS</td>\n      <td>60</td>\n      <td>Republican</td>\n      <td>CYNTHIA</td>\n      <td>LUMMIS</td>\n      <td>58.0</td>\n      <td>Republican</td>\n      <td>3</td>\n    </tr>\n    <tr>\n      <th>5998</th>\n      <td>2016</td>\n      <td>WY</td>\n      <td>0</td>\n      <td>RYAN GREENE</td>\n      <td>LIZ CHENEY</td>\n      <td>231642</td>\n      <td>Republican</td>\n      <td>-0.348426</td>\n      <td>LIZ</td>\n      <td>CHENEY</td>\n      <td>50</td>\n      <td>Republican</td>\n      <td>CYNTHIA</td>\n      <td>LUMMIS</td>\n      <td>60.0</td>\n      <td>None</td>\n      <td>0</td>\n    </tr>\n    <tr>\n      <th>6314</th>\n      <td>2018</td>\n      <td>WY</td>\n      <td>0</td>\n      <td>GREG HUNTER</td>\n      <td>LIZ CHENEY</td>\n      <td>187866</td>\n      <td>Republican</td>\n      <td>-0.362279</td>\n      <td>LIZ</td>\n      <td>CHENEY</td>\n      <td>52</td>\n      <td>Republican</td>\n      <td>LIZ</td>\n      <td>CHENEY</td>\n      <td>50.0</td>\n      <td>Republican</td>\n      <td>1</td>\n    </tr>\n    <tr>\n      <th>6608</th>\n      <td>2020</td>\n      <td>WY</td>\n      <td>0</td>\n      <td>LYNNETTE GREY BULL</td>\n      <td>LIZ CHENEY</td>\n      <td>252308</td>\n      <td>Republican</td>\n      <td>-0.472264</td>\n      <td>LIZ</td>\n      <td>CHENEY</td>\n      <td>54</td>\n      <td>Republican</td>\n      <td>LIZ</td>\n      <td>CHENEY</td>\n      <td>52.0</td>\n      <td>Republican</td>\n      <td>2</td>\n    </tr>\n  </tbody>\n</table>\n<p>6831 rows × 17 columns</p>\n</div>"
     },
     "execution_count": 120,
     "metadata": {},
     "output_type": "execute_result"
    }
   ],
   "source": [
    "with_prior_winners['incumbency_count'] = 0\n",
    "\n",
    "last_winner = {}\n",
    "last_index = {}\n",
    "\n",
    "# Iterate over rows to calculate incumbency_count\n",
    "for index, row in with_prior_winners.iterrows():\n",
    "    key = (row['state'], row['district'])\n",
    "\n",
    "    # If there's an incumbent\n",
    "    if row['incumbent'] != 'None':\n",
    "        # If the incumbent was the winner in the last election for that district\n",
    "        if key in last_winner and last_winner[key] == (row['unaccentedGivenName'], row['unaccentedFamilyName']):\n",
    "            with_prior_winners.at[index, 'incumbency_count'] = with_prior_winners.at[last_index[key], 'incumbency_count'] + 1\n",
    "\n",
    "    # Update the last winner and index for the district\n",
    "    if row['winner'] == 'Democrat':\n",
    "        last_winner[key] = (row['unaccentedGivenName'], row['unaccentedFamilyName'])\n",
    "    elif row['winner'] == 'Republican':\n",
    "        winner_name = row['republican_candidate'].split()\n",
    "        last_winner[key] = (winner_name[0], winner_name[-1])\n",
    "\n",
    "    last_index[key] = index\n",
    "\n",
    "with_prior_winners"
   ],
   "metadata": {
    "collapsed": false
   }
  },
  {
   "cell_type": "code",
   "execution_count": 121,
   "outputs": [
    {
     "data": {
      "text/plain": "      year state  district   democrat_candidate        republican_candidate  \\\n621   1980    AK         0  KEVIN \"PAT\" PARNELL              DONALD E YOUNG   \n1163  1984    AK         0         PEGGE BEGICH              DONALD E YOUNG   \n5391  2014    AL         1     BURTON R LEFLORE               BRADLEY BYRNE   \n5999  2018    AL         1    ROBERT KENNEDY JR               BRADLEY BYRNE   \n0     1976    AL         2      J CAROLE KEAHEY  WILLIAM L \"BILL\" DICKINSON   \n...    ...   ...       ...                  ...                         ...   \n5390  2012    WY         0     CHRIS HENRICHSEN            CYNTHIA M LUMMIS   \n5688  2014    WY         0      RICHARD GRAYSON            CYNTHIA M LUMMIS   \n5998  2016    WY         0          RYAN GREENE                  LIZ CHENEY   \n6314  2018    WY         0          GREG HUNTER                  LIZ CHENEY   \n6608  2020    WY         0   LYNNETTE GREY BULL                  LIZ CHENEY   \n\n      total_demrep_votes      winner  dem_margin unaccentedGivenName  \\\n621               154011  Republican   -0.481569              DONALD   \n1163              199634  Republican   -0.137902              DONALD   \n5391              152036  Republican   -0.364914             BRADLEY   \n5999              242454  Republican   -0.263976             BRADLEY   \n0                 156357  Republican   -0.152094             WILLIAM   \n...                  ...         ...         ...                 ...   \n5390              224025  Republican   -0.486013             CYNTHIA   \n5688              150841  Republican   -0.498770             CYNTHIA   \n5998              231642  Republican   -0.348426                 LIZ   \n6314              187866  Republican   -0.362279                 LIZ   \n6608              252308  Republican   -0.472264                 LIZ   \n\n     unaccentedFamilyName  ageDuringElection prior_winner_party  \\\n621                 YOUNG                 47                NaN   \n1163                YOUNG                 51                NaN   \n5391                BYRNE                 59                NaN   \n5999                BYRNE                 63                NaN   \n0               DICKINSON                 51                NaN   \n...                   ...                ...                ...   \n5390               LUMMIS                 58         Republican   \n5688               LUMMIS                 60         Republican   \n5998               CHENEY                 50         Republican   \n6314               CHENEY                 52         Republican   \n6608               CHENEY                 54         Republican   \n\n     prior_winner_given_name prior_winner_family_name  previous_winner_age  \\\n621                      NaN                      NaN                  NaN   \n1163                     NaN                      NaN                  NaN   \n5391                     NaN                      NaN                  NaN   \n5999                     NaN                      NaN                  NaN   \n0                        NaN                      NaN                  NaN   \n...                      ...                      ...                  ...   \n5390                 CYNTHIA                   LUMMIS                 56.0   \n5688                 CYNTHIA                   LUMMIS                 58.0   \n5998                 CYNTHIA                   LUMMIS                 60.0   \n6314                     LIZ                   CHENEY                 50.0   \n6608                     LIZ                   CHENEY                 52.0   \n\n       incumbent  incumbency_count  avg_dem_margin_4  avg_total_votes_4  \\\n621         None                 0          0.000000               0.00   \n1163        None                 0         -0.481569          154011.00   \n5391        None                 0          0.000000               0.00   \n5999        None                 0         -0.364914          152036.00   \n0           None                 0          0.000000               0.00   \n...          ...               ...               ...                ...   \n5390  Republican                 2         -0.182703          208296.75   \n5688  Republican                 3         -0.269611          206279.00   \n5998        None                 0         -0.392941          197574.25   \n6314  Republican                 1         -0.454327          195984.25   \n6608  Republican                 2         -0.423872          198593.50   \n\n      party_flips_4  \n621               0  \n1163              0  \n5391              0  \n5999              0  \n0                 0  \n...             ...  \n5390              0  \n5688              0  \n5998              0  \n6314              0  \n6608              0  \n\n[6831 rows x 20 columns]",
      "text/html": "<div>\n<style scoped>\n    .dataframe tbody tr th:only-of-type {\n        vertical-align: middle;\n    }\n\n    .dataframe tbody tr th {\n        vertical-align: top;\n    }\n\n    .dataframe thead th {\n        text-align: right;\n    }\n</style>\n<table border=\"1\" class=\"dataframe\">\n  <thead>\n    <tr style=\"text-align: right;\">\n      <th></th>\n      <th>year</th>\n      <th>state</th>\n      <th>district</th>\n      <th>democrat_candidate</th>\n      <th>republican_candidate</th>\n      <th>total_demrep_votes</th>\n      <th>winner</th>\n      <th>dem_margin</th>\n      <th>unaccentedGivenName</th>\n      <th>unaccentedFamilyName</th>\n      <th>ageDuringElection</th>\n      <th>prior_winner_party</th>\n      <th>prior_winner_given_name</th>\n      <th>prior_winner_family_name</th>\n      <th>previous_winner_age</th>\n      <th>incumbent</th>\n      <th>incumbency_count</th>\n      <th>avg_dem_margin_4</th>\n      <th>avg_total_votes_4</th>\n      <th>party_flips_4</th>\n    </tr>\n  </thead>\n  <tbody>\n    <tr>\n      <th>621</th>\n      <td>1980</td>\n      <td>AK</td>\n      <td>0</td>\n      <td>KEVIN \"PAT\" PARNELL</td>\n      <td>DONALD E YOUNG</td>\n      <td>154011</td>\n      <td>Republican</td>\n      <td>-0.481569</td>\n      <td>DONALD</td>\n      <td>YOUNG</td>\n      <td>47</td>\n      <td>NaN</td>\n      <td>NaN</td>\n      <td>NaN</td>\n      <td>NaN</td>\n      <td>None</td>\n      <td>0</td>\n      <td>0.000000</td>\n      <td>0.00</td>\n      <td>0</td>\n    </tr>\n    <tr>\n      <th>1163</th>\n      <td>1984</td>\n      <td>AK</td>\n      <td>0</td>\n      <td>PEGGE BEGICH</td>\n      <td>DONALD E YOUNG</td>\n      <td>199634</td>\n      <td>Republican</td>\n      <td>-0.137902</td>\n      <td>DONALD</td>\n      <td>YOUNG</td>\n      <td>51</td>\n      <td>NaN</td>\n      <td>NaN</td>\n      <td>NaN</td>\n      <td>NaN</td>\n      <td>None</td>\n      <td>0</td>\n      <td>-0.481569</td>\n      <td>154011.00</td>\n      <td>0</td>\n    </tr>\n    <tr>\n      <th>5391</th>\n      <td>2014</td>\n      <td>AL</td>\n      <td>1</td>\n      <td>BURTON R LEFLORE</td>\n      <td>BRADLEY BYRNE</td>\n      <td>152036</td>\n      <td>Republican</td>\n      <td>-0.364914</td>\n      <td>BRADLEY</td>\n      <td>BYRNE</td>\n      <td>59</td>\n      <td>NaN</td>\n      <td>NaN</td>\n      <td>NaN</td>\n      <td>NaN</td>\n      <td>None</td>\n      <td>0</td>\n      <td>0.000000</td>\n      <td>0.00</td>\n      <td>0</td>\n    </tr>\n    <tr>\n      <th>5999</th>\n      <td>2018</td>\n      <td>AL</td>\n      <td>1</td>\n      <td>ROBERT KENNEDY JR</td>\n      <td>BRADLEY BYRNE</td>\n      <td>242454</td>\n      <td>Republican</td>\n      <td>-0.263976</td>\n      <td>BRADLEY</td>\n      <td>BYRNE</td>\n      <td>63</td>\n      <td>NaN</td>\n      <td>NaN</td>\n      <td>NaN</td>\n      <td>NaN</td>\n      <td>None</td>\n      <td>0</td>\n      <td>-0.364914</td>\n      <td>152036.00</td>\n      <td>0</td>\n    </tr>\n    <tr>\n      <th>0</th>\n      <td>1976</td>\n      <td>AL</td>\n      <td>2</td>\n      <td>J CAROLE KEAHEY</td>\n      <td>WILLIAM L \"BILL\" DICKINSON</td>\n      <td>156357</td>\n      <td>Republican</td>\n      <td>-0.152094</td>\n      <td>WILLIAM</td>\n      <td>DICKINSON</td>\n      <td>51</td>\n      <td>NaN</td>\n      <td>NaN</td>\n      <td>NaN</td>\n      <td>NaN</td>\n      <td>None</td>\n      <td>0</td>\n      <td>0.000000</td>\n      <td>0.00</td>\n      <td>0</td>\n    </tr>\n    <tr>\n      <th>...</th>\n      <td>...</td>\n      <td>...</td>\n      <td>...</td>\n      <td>...</td>\n      <td>...</td>\n      <td>...</td>\n      <td>...</td>\n      <td>...</td>\n      <td>...</td>\n      <td>...</td>\n      <td>...</td>\n      <td>...</td>\n      <td>...</td>\n      <td>...</td>\n      <td>...</td>\n      <td>...</td>\n      <td>...</td>\n      <td>...</td>\n      <td>...</td>\n      <td>...</td>\n    </tr>\n    <tr>\n      <th>5390</th>\n      <td>2012</td>\n      <td>WY</td>\n      <td>0</td>\n      <td>CHRIS HENRICHSEN</td>\n      <td>CYNTHIA M LUMMIS</td>\n      <td>224025</td>\n      <td>Republican</td>\n      <td>-0.486013</td>\n      <td>CYNTHIA</td>\n      <td>LUMMIS</td>\n      <td>58</td>\n      <td>Republican</td>\n      <td>CYNTHIA</td>\n      <td>LUMMIS</td>\n      <td>56.0</td>\n      <td>Republican</td>\n      <td>2</td>\n      <td>-0.182703</td>\n      <td>208296.75</td>\n      <td>0</td>\n    </tr>\n    <tr>\n      <th>5688</th>\n      <td>2014</td>\n      <td>WY</td>\n      <td>0</td>\n      <td>RICHARD GRAYSON</td>\n      <td>CYNTHIA M LUMMIS</td>\n      <td>150841</td>\n      <td>Republican</td>\n      <td>-0.498770</td>\n      <td>CYNTHIA</td>\n      <td>LUMMIS</td>\n      <td>60</td>\n      <td>Republican</td>\n      <td>CYNTHIA</td>\n      <td>LUMMIS</td>\n      <td>58.0</td>\n      <td>Republican</td>\n      <td>3</td>\n      <td>-0.269611</td>\n      <td>206279.00</td>\n      <td>0</td>\n    </tr>\n    <tr>\n      <th>5998</th>\n      <td>2016</td>\n      <td>WY</td>\n      <td>0</td>\n      <td>RYAN GREENE</td>\n      <td>LIZ CHENEY</td>\n      <td>231642</td>\n      <td>Republican</td>\n      <td>-0.348426</td>\n      <td>LIZ</td>\n      <td>CHENEY</td>\n      <td>50</td>\n      <td>Republican</td>\n      <td>CYNTHIA</td>\n      <td>LUMMIS</td>\n      <td>60.0</td>\n      <td>None</td>\n      <td>0</td>\n      <td>-0.392941</td>\n      <td>197574.25</td>\n      <td>0</td>\n    </tr>\n    <tr>\n      <th>6314</th>\n      <td>2018</td>\n      <td>WY</td>\n      <td>0</td>\n      <td>GREG HUNTER</td>\n      <td>LIZ CHENEY</td>\n      <td>187866</td>\n      <td>Republican</td>\n      <td>-0.362279</td>\n      <td>LIZ</td>\n      <td>CHENEY</td>\n      <td>52</td>\n      <td>Republican</td>\n      <td>LIZ</td>\n      <td>CHENEY</td>\n      <td>50.0</td>\n      <td>Republican</td>\n      <td>1</td>\n      <td>-0.454327</td>\n      <td>195984.25</td>\n      <td>0</td>\n    </tr>\n    <tr>\n      <th>6608</th>\n      <td>2020</td>\n      <td>WY</td>\n      <td>0</td>\n      <td>LYNNETTE GREY BULL</td>\n      <td>LIZ CHENEY</td>\n      <td>252308</td>\n      <td>Republican</td>\n      <td>-0.472264</td>\n      <td>LIZ</td>\n      <td>CHENEY</td>\n      <td>54</td>\n      <td>Republican</td>\n      <td>LIZ</td>\n      <td>CHENEY</td>\n      <td>52.0</td>\n      <td>Republican</td>\n      <td>2</td>\n      <td>-0.423872</td>\n      <td>198593.50</td>\n      <td>0</td>\n    </tr>\n  </tbody>\n</table>\n<p>6831 rows × 20 columns</p>\n</div>"
     },
     "execution_count": 121,
     "metadata": {},
     "output_type": "execute_result"
    }
   ],
   "source": [
    "with_prior_winners['avg_dem_margin_4'] = 0.0\n",
    "with_prior_winners['avg_total_votes_4'] = 0.0\n",
    "with_prior_winners['party_flips_4'] = 0\n",
    "\n",
    "for index, row in with_prior_winners.iterrows():\n",
    "    prev_rows = with_prior_winners[\n",
    "        (with_prior_winners['state'] == row['state']) &\n",
    "        (with_prior_winners['district'] == row['district']) &\n",
    "        (with_prior_winners['year'] < row['year'])\n",
    "    ].tail(4)\n",
    "\n",
    "    if not prev_rows.empty:\n",
    "        with_prior_winners.at[index, 'avg_dem_margin_4'] = prev_rows['dem_margin'].mean()\n",
    "        with_prior_winners.at[index, 'avg_total_votes_4'] = prev_rows['total_demrep_votes'].mean()\n",
    "        with_prior_winners.at[index, 'party_flips_4'] = (prev_rows['winner'] != prev_rows['winner'].shift()).sum() - 1\n",
    "\n",
    "with_prior_winners"
   ],
   "metadata": {
    "collapsed": false
   }
  },
  {
   "cell_type": "code",
   "execution_count": 126,
   "outputs": [
    {
     "data": {
      "text/plain": "      year state  previous_winner_age   incumbent  incumbency_count  \\\n318   1978    AL                 51.0  Republican                 1   \n4707  2010    AL                 56.0    Democrat                 0   \n5054  2012    AL                 34.0  Republican                 1   \n5392  2014    AL                 36.0  Republican                 2   \n5689  2016    AL                 38.0  Republican                 3   \n...    ...   ...                  ...         ...               ...   \n5390  2012    WY                 56.0  Republican                 2   \n5688  2014    WY                 58.0  Republican                 3   \n5998  2016    WY                 60.0        None                 0   \n6314  2018    WY                 50.0  Republican                 1   \n6608  2020    WY                 52.0  Republican                 2   \n\n      avg_dem_margin_4  avg_total_votes_4  party_flips_4  dem_margin  \n318          -0.152094          156357.00              0   -0.080017  \n4707         -0.062914          180365.00              1   -0.021875  \n5054         -0.030359          195903.25              2   -0.273189  \n5392         -0.078652          240007.75              2   -0.348109  \n5689         -0.159234          239233.50              1   -0.092305  \n...                ...                ...            ...         ...  \n5390         -0.182703          208296.75              0   -0.486013  \n5688         -0.269611          206279.00              0   -0.498770  \n5998         -0.392941          197574.25              0   -0.348426  \n6314         -0.454327          195984.25              0   -0.362279  \n6608         -0.423872          198593.50              0   -0.472264  \n\n[5399 rows x 9 columns]",
      "text/html": "<div>\n<style scoped>\n    .dataframe tbody tr th:only-of-type {\n        vertical-align: middle;\n    }\n\n    .dataframe tbody tr th {\n        vertical-align: top;\n    }\n\n    .dataframe thead th {\n        text-align: right;\n    }\n</style>\n<table border=\"1\" class=\"dataframe\">\n  <thead>\n    <tr style=\"text-align: right;\">\n      <th></th>\n      <th>year</th>\n      <th>state</th>\n      <th>previous_winner_age</th>\n      <th>incumbent</th>\n      <th>incumbency_count</th>\n      <th>avg_dem_margin_4</th>\n      <th>avg_total_votes_4</th>\n      <th>party_flips_4</th>\n      <th>dem_margin</th>\n    </tr>\n  </thead>\n  <tbody>\n    <tr>\n      <th>318</th>\n      <td>1978</td>\n      <td>AL</td>\n      <td>51.0</td>\n      <td>Republican</td>\n      <td>1</td>\n      <td>-0.152094</td>\n      <td>156357.00</td>\n      <td>0</td>\n      <td>-0.080017</td>\n    </tr>\n    <tr>\n      <th>4707</th>\n      <td>2010</td>\n      <td>AL</td>\n      <td>56.0</td>\n      <td>Democrat</td>\n      <td>0</td>\n      <td>-0.062914</td>\n      <td>180365.00</td>\n      <td>1</td>\n      <td>-0.021875</td>\n    </tr>\n    <tr>\n      <th>5054</th>\n      <td>2012</td>\n      <td>AL</td>\n      <td>34.0</td>\n      <td>Republican</td>\n      <td>1</td>\n      <td>-0.030359</td>\n      <td>195903.25</td>\n      <td>2</td>\n      <td>-0.273189</td>\n    </tr>\n    <tr>\n      <th>5392</th>\n      <td>2014</td>\n      <td>AL</td>\n      <td>36.0</td>\n      <td>Republican</td>\n      <td>2</td>\n      <td>-0.078652</td>\n      <td>240007.75</td>\n      <td>2</td>\n      <td>-0.348109</td>\n    </tr>\n    <tr>\n      <th>5689</th>\n      <td>2016</td>\n      <td>AL</td>\n      <td>38.0</td>\n      <td>Republican</td>\n      <td>3</td>\n      <td>-0.159234</td>\n      <td>239233.50</td>\n      <td>1</td>\n      <td>-0.092305</td>\n    </tr>\n    <tr>\n      <th>...</th>\n      <td>...</td>\n      <td>...</td>\n      <td>...</td>\n      <td>...</td>\n      <td>...</td>\n      <td>...</td>\n      <td>...</td>\n      <td>...</td>\n      <td>...</td>\n    </tr>\n    <tr>\n      <th>5390</th>\n      <td>2012</td>\n      <td>WY</td>\n      <td>56.0</td>\n      <td>Republican</td>\n      <td>2</td>\n      <td>-0.182703</td>\n      <td>208296.75</td>\n      <td>0</td>\n      <td>-0.486013</td>\n    </tr>\n    <tr>\n      <th>5688</th>\n      <td>2014</td>\n      <td>WY</td>\n      <td>58.0</td>\n      <td>Republican</td>\n      <td>3</td>\n      <td>-0.269611</td>\n      <td>206279.00</td>\n      <td>0</td>\n      <td>-0.498770</td>\n    </tr>\n    <tr>\n      <th>5998</th>\n      <td>2016</td>\n      <td>WY</td>\n      <td>60.0</td>\n      <td>None</td>\n      <td>0</td>\n      <td>-0.392941</td>\n      <td>197574.25</td>\n      <td>0</td>\n      <td>-0.348426</td>\n    </tr>\n    <tr>\n      <th>6314</th>\n      <td>2018</td>\n      <td>WY</td>\n      <td>50.0</td>\n      <td>Republican</td>\n      <td>1</td>\n      <td>-0.454327</td>\n      <td>195984.25</td>\n      <td>0</td>\n      <td>-0.362279</td>\n    </tr>\n    <tr>\n      <th>6608</th>\n      <td>2020</td>\n      <td>WY</td>\n      <td>52.0</td>\n      <td>Republican</td>\n      <td>2</td>\n      <td>-0.423872</td>\n      <td>198593.50</td>\n      <td>0</td>\n      <td>-0.472264</td>\n    </tr>\n  </tbody>\n</table>\n<p>5399 rows × 9 columns</p>\n</div>"
     },
     "execution_count": 126,
     "metadata": {},
     "output_type": "execute_result"
    }
   ],
   "source": [
    "training_data = with_prior_winners.loc[(with_prior_winners['year'] > 1976) & (with_prior_winners['avg_total_votes_4'] > 1) & (with_prior_winners['previous_winner_age'] > 1)]\n",
    "training_data = training_data[['year',\n",
    "                               'state',\n",
    "                               'previous_winner_age',\n",
    "                               'incumbent',\n",
    "                               'incumbency_count',\n",
    "                               'avg_dem_margin_4',\n",
    "                               'avg_total_votes_4',\n",
    "                               'party_flips_4',\n",
    "                               'dem_margin'\n",
    "                               ]]\n",
    "training_data"
   ],
   "metadata": {
    "collapsed": false
   }
  },
  {
   "cell_type": "code",
   "execution_count": 128,
   "outputs": [],
   "source": [
    "training_data.to_csv(\"../DATA/training.csv\")"
   ],
   "metadata": {
    "collapsed": false
   }
  }
 ],
 "metadata": {
  "kernelspec": {
   "display_name": "Python 3",
   "language": "python",
   "name": "python3"
  },
  "language_info": {
   "codemirror_mode": {
    "name": "ipython",
    "version": 2
   },
   "file_extension": ".py",
   "mimetype": "text/x-python",
   "name": "python",
   "nbconvert_exporter": "python",
   "pygments_lexer": "ipython2",
   "version": "2.7.6"
  }
 },
 "nbformat": 4,
 "nbformat_minor": 0
}
