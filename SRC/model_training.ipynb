{
 "cells": [
  {
   "cell_type": "code",
   "execution_count": 51,
   "outputs": [],
   "source": [
    "import pandas as pd\n",
    "import numpy as np"
   ],
   "metadata": {
    "collapsed": false
   }
  },
  {
   "cell_type": "code",
   "execution_count": 89,
   "metadata": {
    "collapsed": true
   },
   "outputs": [
    {
     "data": {
      "text/plain": "      year state  previous_winner_age   incumbent  incumbency_count  \\\n0     1978    AL                 51.0  Republican                 1   \n1     2010    AL                 56.0    Democrat                 0   \n2     2012    AL                 34.0  Republican                 1   \n3     2014    AL                 36.0  Republican                 2   \n4     2016    AL                 38.0  Republican                 3   \n...    ...   ...                  ...         ...               ...   \n5394  2012    WY                 56.0  Republican                 2   \n5395  2014    WY                 58.0  Republican                 3   \n5396  2016    WY                 60.0         NaN                 0   \n5397  2018    WY                 50.0  Republican                 1   \n5398  2020    WY                 52.0  Republican                 2   \n\n      avg_dem_margin_4  avg_total_votes_4  party_flips_4  dem_margin  \n0            -0.152094          156357.00              0   -0.080017  \n1            -0.062914          180365.00              1   -0.021875  \n2            -0.030359          195903.25              2   -0.273189  \n3            -0.078652          240007.75              2   -0.348109  \n4            -0.159234          239233.50              1   -0.092305  \n...                ...                ...            ...         ...  \n5394         -0.182703          208296.75              0   -0.486013  \n5395         -0.269611          206279.00              0   -0.498770  \n5396         -0.392941          197574.25              0   -0.348426  \n5397         -0.454327          195984.25              0   -0.362279  \n5398         -0.423872          198593.50              0   -0.472264  \n\n[5399 rows x 9 columns]",
      "text/html": "<div>\n<style scoped>\n    .dataframe tbody tr th:only-of-type {\n        vertical-align: middle;\n    }\n\n    .dataframe tbody tr th {\n        vertical-align: top;\n    }\n\n    .dataframe thead th {\n        text-align: right;\n    }\n</style>\n<table border=\"1\" class=\"dataframe\">\n  <thead>\n    <tr style=\"text-align: right;\">\n      <th></th>\n      <th>year</th>\n      <th>state</th>\n      <th>previous_winner_age</th>\n      <th>incumbent</th>\n      <th>incumbency_count</th>\n      <th>avg_dem_margin_4</th>\n      <th>avg_total_votes_4</th>\n      <th>party_flips_4</th>\n      <th>dem_margin</th>\n    </tr>\n  </thead>\n  <tbody>\n    <tr>\n      <th>0</th>\n      <td>1978</td>\n      <td>AL</td>\n      <td>51.0</td>\n      <td>Republican</td>\n      <td>1</td>\n      <td>-0.152094</td>\n      <td>156357.00</td>\n      <td>0</td>\n      <td>-0.080017</td>\n    </tr>\n    <tr>\n      <th>1</th>\n      <td>2010</td>\n      <td>AL</td>\n      <td>56.0</td>\n      <td>Democrat</td>\n      <td>0</td>\n      <td>-0.062914</td>\n      <td>180365.00</td>\n      <td>1</td>\n      <td>-0.021875</td>\n    </tr>\n    <tr>\n      <th>2</th>\n      <td>2012</td>\n      <td>AL</td>\n      <td>34.0</td>\n      <td>Republican</td>\n      <td>1</td>\n      <td>-0.030359</td>\n      <td>195903.25</td>\n      <td>2</td>\n      <td>-0.273189</td>\n    </tr>\n    <tr>\n      <th>3</th>\n      <td>2014</td>\n      <td>AL</td>\n      <td>36.0</td>\n      <td>Republican</td>\n      <td>2</td>\n      <td>-0.078652</td>\n      <td>240007.75</td>\n      <td>2</td>\n      <td>-0.348109</td>\n    </tr>\n    <tr>\n      <th>4</th>\n      <td>2016</td>\n      <td>AL</td>\n      <td>38.0</td>\n      <td>Republican</td>\n      <td>3</td>\n      <td>-0.159234</td>\n      <td>239233.50</td>\n      <td>1</td>\n      <td>-0.092305</td>\n    </tr>\n    <tr>\n      <th>...</th>\n      <td>...</td>\n      <td>...</td>\n      <td>...</td>\n      <td>...</td>\n      <td>...</td>\n      <td>...</td>\n      <td>...</td>\n      <td>...</td>\n      <td>...</td>\n    </tr>\n    <tr>\n      <th>5394</th>\n      <td>2012</td>\n      <td>WY</td>\n      <td>56.0</td>\n      <td>Republican</td>\n      <td>2</td>\n      <td>-0.182703</td>\n      <td>208296.75</td>\n      <td>0</td>\n      <td>-0.486013</td>\n    </tr>\n    <tr>\n      <th>5395</th>\n      <td>2014</td>\n      <td>WY</td>\n      <td>58.0</td>\n      <td>Republican</td>\n      <td>3</td>\n      <td>-0.269611</td>\n      <td>206279.00</td>\n      <td>0</td>\n      <td>-0.498770</td>\n    </tr>\n    <tr>\n      <th>5396</th>\n      <td>2016</td>\n      <td>WY</td>\n      <td>60.0</td>\n      <td>NaN</td>\n      <td>0</td>\n      <td>-0.392941</td>\n      <td>197574.25</td>\n      <td>0</td>\n      <td>-0.348426</td>\n    </tr>\n    <tr>\n      <th>5397</th>\n      <td>2018</td>\n      <td>WY</td>\n      <td>50.0</td>\n      <td>Republican</td>\n      <td>1</td>\n      <td>-0.454327</td>\n      <td>195984.25</td>\n      <td>0</td>\n      <td>-0.362279</td>\n    </tr>\n    <tr>\n      <th>5398</th>\n      <td>2020</td>\n      <td>WY</td>\n      <td>52.0</td>\n      <td>Republican</td>\n      <td>2</td>\n      <td>-0.423872</td>\n      <td>198593.50</td>\n      <td>0</td>\n      <td>-0.472264</td>\n    </tr>\n  </tbody>\n</table>\n<p>5399 rows × 9 columns</p>\n</div>"
     },
     "execution_count": 89,
     "metadata": {},
     "output_type": "execute_result"
    }
   ],
   "source": [
    "elections = pd.read_csv(\"../DATA/training.csv\")\n",
    "elections = elections[['year', 'state', 'previous_winner_age', 'incumbent', 'incumbency_count', 'avg_dem_margin_4', 'avg_total_votes_4', 'party_flips_4', 'dem_margin']]\n",
    "elections"
   ]
  },
  {
   "cell_type": "code",
   "execution_count": 90,
   "outputs": [
    {
     "data": {
      "text/plain": "      year state  previous_winner_age   incumbent  incumbency_count  \\\n0        2    AL                 51.0  Republican                 1   \n1       34    AL                 56.0    Democrat                 0   \n2       36    AL                 34.0  Republican                 1   \n3       38    AL                 36.0  Republican                 2   \n4       40    AL                 38.0  Republican                 3   \n...    ...   ...                  ...         ...               ...   \n5394    36    WY                 56.0  Republican                 2   \n5395    38    WY                 58.0  Republican                 3   \n5396    40    WY                 60.0         NaN                 0   \n5397    42    WY                 50.0  Republican                 1   \n5398    44    WY                 52.0  Republican                 2   \n\n      avg_dem_margin_4  avg_total_votes_4  party_flips_4  dem_margin  \n0            -0.152094          156357.00              0   -0.080017  \n1            -0.062914          180365.00              1   -0.021875  \n2            -0.030359          195903.25              2   -0.273189  \n3            -0.078652          240007.75              2   -0.348109  \n4            -0.159234          239233.50              1   -0.092305  \n...                ...                ...            ...         ...  \n5394         -0.182703          208296.75              0   -0.486013  \n5395         -0.269611          206279.00              0   -0.498770  \n5396         -0.392941          197574.25              0   -0.348426  \n5397         -0.454327          195984.25              0   -0.362279  \n5398         -0.423872          198593.50              0   -0.472264  \n\n[5399 rows x 9 columns]",
      "text/html": "<div>\n<style scoped>\n    .dataframe tbody tr th:only-of-type {\n        vertical-align: middle;\n    }\n\n    .dataframe tbody tr th {\n        vertical-align: top;\n    }\n\n    .dataframe thead th {\n        text-align: right;\n    }\n</style>\n<table border=\"1\" class=\"dataframe\">\n  <thead>\n    <tr style=\"text-align: right;\">\n      <th></th>\n      <th>year</th>\n      <th>state</th>\n      <th>previous_winner_age</th>\n      <th>incumbent</th>\n      <th>incumbency_count</th>\n      <th>avg_dem_margin_4</th>\n      <th>avg_total_votes_4</th>\n      <th>party_flips_4</th>\n      <th>dem_margin</th>\n    </tr>\n  </thead>\n  <tbody>\n    <tr>\n      <th>0</th>\n      <td>2</td>\n      <td>AL</td>\n      <td>51.0</td>\n      <td>Republican</td>\n      <td>1</td>\n      <td>-0.152094</td>\n      <td>156357.00</td>\n      <td>0</td>\n      <td>-0.080017</td>\n    </tr>\n    <tr>\n      <th>1</th>\n      <td>34</td>\n      <td>AL</td>\n      <td>56.0</td>\n      <td>Democrat</td>\n      <td>0</td>\n      <td>-0.062914</td>\n      <td>180365.00</td>\n      <td>1</td>\n      <td>-0.021875</td>\n    </tr>\n    <tr>\n      <th>2</th>\n      <td>36</td>\n      <td>AL</td>\n      <td>34.0</td>\n      <td>Republican</td>\n      <td>1</td>\n      <td>-0.030359</td>\n      <td>195903.25</td>\n      <td>2</td>\n      <td>-0.273189</td>\n    </tr>\n    <tr>\n      <th>3</th>\n      <td>38</td>\n      <td>AL</td>\n      <td>36.0</td>\n      <td>Republican</td>\n      <td>2</td>\n      <td>-0.078652</td>\n      <td>240007.75</td>\n      <td>2</td>\n      <td>-0.348109</td>\n    </tr>\n    <tr>\n      <th>4</th>\n      <td>40</td>\n      <td>AL</td>\n      <td>38.0</td>\n      <td>Republican</td>\n      <td>3</td>\n      <td>-0.159234</td>\n      <td>239233.50</td>\n      <td>1</td>\n      <td>-0.092305</td>\n    </tr>\n    <tr>\n      <th>...</th>\n      <td>...</td>\n      <td>...</td>\n      <td>...</td>\n      <td>...</td>\n      <td>...</td>\n      <td>...</td>\n      <td>...</td>\n      <td>...</td>\n      <td>...</td>\n    </tr>\n    <tr>\n      <th>5394</th>\n      <td>36</td>\n      <td>WY</td>\n      <td>56.0</td>\n      <td>Republican</td>\n      <td>2</td>\n      <td>-0.182703</td>\n      <td>208296.75</td>\n      <td>0</td>\n      <td>-0.486013</td>\n    </tr>\n    <tr>\n      <th>5395</th>\n      <td>38</td>\n      <td>WY</td>\n      <td>58.0</td>\n      <td>Republican</td>\n      <td>3</td>\n      <td>-0.269611</td>\n      <td>206279.00</td>\n      <td>0</td>\n      <td>-0.498770</td>\n    </tr>\n    <tr>\n      <th>5396</th>\n      <td>40</td>\n      <td>WY</td>\n      <td>60.0</td>\n      <td>NaN</td>\n      <td>0</td>\n      <td>-0.392941</td>\n      <td>197574.25</td>\n      <td>0</td>\n      <td>-0.348426</td>\n    </tr>\n    <tr>\n      <th>5397</th>\n      <td>42</td>\n      <td>WY</td>\n      <td>50.0</td>\n      <td>Republican</td>\n      <td>1</td>\n      <td>-0.454327</td>\n      <td>195984.25</td>\n      <td>0</td>\n      <td>-0.362279</td>\n    </tr>\n    <tr>\n      <th>5398</th>\n      <td>44</td>\n      <td>WY</td>\n      <td>52.0</td>\n      <td>Republican</td>\n      <td>2</td>\n      <td>-0.423872</td>\n      <td>198593.50</td>\n      <td>0</td>\n      <td>-0.472264</td>\n    </tr>\n  </tbody>\n</table>\n<p>5399 rows × 9 columns</p>\n</div>"
     },
     "execution_count": 90,
     "metadata": {},
     "output_type": "execute_result"
    }
   ],
   "source": [
    "elections['year'] = elections['year'] - 1976\n",
    "elections"
   ],
   "metadata": {
    "collapsed": false
   }
  },
  {
   "cell_type": "code",
   "execution_count": 121,
   "outputs": [
    {
     "data": {
      "text/plain": "year                     int64\nstate                   object\nprevious_winner_age    float64\nincumbent               object\nincumbency_count         int64\navg_dem_margin_4       float64\navg_total_votes_4      float64\nparty_flips_4            int64\ndtype: object"
     },
     "execution_count": 121,
     "metadata": {},
     "output_type": "execute_result"
    }
   ],
   "source": [
    "elections.dtypes"
   ],
   "metadata": {
    "collapsed": false
   }
  },
  {
   "cell_type": "code",
   "execution_count": 91,
   "outputs": [
    {
     "name": "stdout",
     "output_type": "stream",
     "text": [
      "(5206, 58)\n",
      "(193, 58)\n"
     ]
    }
   ],
   "source": [
    "from sklearn.model_selection import train_test_split\n",
    "from pandas.plotting import scatter_matrix # optional\n",
    "from sklearn.preprocessing import LabelEncoder\n",
    "from sklearn.preprocessing import OneHotEncoder\n",
    "from sklearn.pipeline import Pipeline\n",
    "from sklearn.preprocessing import StandardScaler\n",
    "from sklearn.compose import ColumnTransformer\n",
    "\n",
    "holdout = elections[elections['year'] == 46] # Separate out 2022\n",
    "elections = elections[elections['year'] < 46]\n",
    "\n",
    "y = elections['dem_margin']\n",
    "elections = elections.drop(columns=['dem_margin'])\n",
    "holdout_y = holdout['dem_margin']\n",
    "holdout = holdout.drop(columns=['dem_margin'])\n",
    "\n",
    "numeric_transformer = Pipeline(steps=[\n",
    "    ('scaler', StandardScaler())\n",
    "])\n",
    "\n",
    "categorical_transformer = Pipeline(steps=[\n",
    "    ('onehot', OneHotEncoder(handle_unknown='ignore'))\n",
    "])\n",
    "\n",
    "preprocessor = ColumnTransformer(\n",
    "    transformers=[\n",
    "        ('num', numeric_transformer, ['year', 'previous_winner_age', 'incumbency_count', 'avg_dem_margin_4', 'avg_total_votes_4', 'party_flips_4']),\n",
    "        ('cat', categorical_transformer, ['state', 'incumbent'])\n",
    "    ])\n",
    "\n",
    "pipeline = Pipeline(steps=[('preprocessor', preprocessor)])\n",
    "\n",
    "pipeline.fit(elections)\n",
    "X = pipeline.transform(elections)\n",
    "holdout_X = pipeline.transform(holdout)\n",
    "print(X.shape)\n",
    "print(holdout_X.shape)"
   ],
   "metadata": {
    "collapsed": false
   }
  },
  {
   "cell_type": "code",
   "execution_count": 93,
   "outputs": [],
   "source": [
    "X_train, X_test, y_train, y_test = train_test_split(X, y, test_size=0.10)"
   ],
   "metadata": {
    "collapsed": false
   }
  },
  {
   "cell_type": "code",
   "execution_count": 94,
   "outputs": [
    {
     "name": "stdout",
     "output_type": "stream",
     "text": [
      "Linear model scores:\n",
      "[0.17006613 0.16941134 0.16374835 0.17795529 0.17044318]\n",
      "\n",
      "\n",
      "Random forest model scores:\n",
      "[0.14960955 0.15901775 0.14866256 0.15742709 0.15330892]\n"
     ]
    }
   ],
   "source": [
    "from sklearn.linear_model import LinearRegression\n",
    "from sklearn.ensemble import RandomForestRegressor\n",
    "from sklearn.model_selection import cross_val_score\n",
    "\n",
    "linear_model = LinearRegression()\n",
    "linear_model.fit(X_train, y_train)\n",
    "linear_scores = cross_val_score(linear_model, X_train, y_train, scoring=\"neg_mean_squared_error\", cv=5)\n",
    "linear_rmse_scores = np.sqrt(-linear_scores)\n",
    "\n",
    "forest_model = RandomForestRegressor()\n",
    "forest_model.fit(X_train, y_train)\n",
    "forest_scores = cross_val_score(forest_model, X_train, y_train, scoring=\"neg_mean_squared_error\", cv=5)\n",
    "forest_rmse_scores = np.sqrt(-forest_scores)\n",
    "\n",
    "print(\"Linear model scores:\")\n",
    "print(linear_rmse_scores)\n",
    "print('\\n')\n",
    "print(\"Random forest model scores:\")\n",
    "print(forest_rmse_scores)"
   ],
   "metadata": {
    "collapsed": false
   }
  },
  {
   "cell_type": "code",
   "execution_count": 38,
   "outputs": [
    {
     "data": {
      "text/plain": "RandomizedSearchCV(cv=5, estimator=RandomForestRegressor(random_state=67),\n                   n_iter=2000, n_jobs=-1,\n                   param_distributions=[{'max_depth': [None, 10, 20, 30, 40],\n                                         'max_features': [1, 2, 4, 8, 16, 25,\n                                                          50, 100],\n                                         'min_samples_leaf': [1, 2, 4, 6, 8],\n                                         'min_samples_split': [2, 5, 10],\n                                         'n_estimators': [10, 25, 50, 100,\n                                                          200]}],\n                   return_train_score=True, scoring='neg_mean_squared_error')",
      "text/html": "<style>#sk-container-id-3 {color: black;}#sk-container-id-3 pre{padding: 0;}#sk-container-id-3 div.sk-toggleable {background-color: white;}#sk-container-id-3 label.sk-toggleable__label {cursor: pointer;display: block;width: 100%;margin-bottom: 0;padding: 0.3em;box-sizing: border-box;text-align: center;}#sk-container-id-3 label.sk-toggleable__label-arrow:before {content: \"▸\";float: left;margin-right: 0.25em;color: #696969;}#sk-container-id-3 label.sk-toggleable__label-arrow:hover:before {color: black;}#sk-container-id-3 div.sk-estimator:hover label.sk-toggleable__label-arrow:before {color: black;}#sk-container-id-3 div.sk-toggleable__content {max-height: 0;max-width: 0;overflow: hidden;text-align: left;background-color: #f0f8ff;}#sk-container-id-3 div.sk-toggleable__content pre {margin: 0.2em;color: black;border-radius: 0.25em;background-color: #f0f8ff;}#sk-container-id-3 input.sk-toggleable__control:checked~div.sk-toggleable__content {max-height: 200px;max-width: 100%;overflow: auto;}#sk-container-id-3 input.sk-toggleable__control:checked~label.sk-toggleable__label-arrow:before {content: \"▾\";}#sk-container-id-3 div.sk-estimator input.sk-toggleable__control:checked~label.sk-toggleable__label {background-color: #d4ebff;}#sk-container-id-3 div.sk-label input.sk-toggleable__control:checked~label.sk-toggleable__label {background-color: #d4ebff;}#sk-container-id-3 input.sk-hidden--visually {border: 0;clip: rect(1px 1px 1px 1px);clip: rect(1px, 1px, 1px, 1px);height: 1px;margin: -1px;overflow: hidden;padding: 0;position: absolute;width: 1px;}#sk-container-id-3 div.sk-estimator {font-family: monospace;background-color: #f0f8ff;border: 1px dotted black;border-radius: 0.25em;box-sizing: border-box;margin-bottom: 0.5em;}#sk-container-id-3 div.sk-estimator:hover {background-color: #d4ebff;}#sk-container-id-3 div.sk-parallel-item::after {content: \"\";width: 100%;border-bottom: 1px solid gray;flex-grow: 1;}#sk-container-id-3 div.sk-label:hover label.sk-toggleable__label {background-color: #d4ebff;}#sk-container-id-3 div.sk-serial::before {content: \"\";position: absolute;border-left: 1px solid gray;box-sizing: border-box;top: 0;bottom: 0;left: 50%;z-index: 0;}#sk-container-id-3 div.sk-serial {display: flex;flex-direction: column;align-items: center;background-color: white;padding-right: 0.2em;padding-left: 0.2em;position: relative;}#sk-container-id-3 div.sk-item {position: relative;z-index: 1;}#sk-container-id-3 div.sk-parallel {display: flex;align-items: stretch;justify-content: center;background-color: white;position: relative;}#sk-container-id-3 div.sk-item::before, #sk-container-id-3 div.sk-parallel-item::before {content: \"\";position: absolute;border-left: 1px solid gray;box-sizing: border-box;top: 0;bottom: 0;left: 50%;z-index: -1;}#sk-container-id-3 div.sk-parallel-item {display: flex;flex-direction: column;z-index: 1;position: relative;background-color: white;}#sk-container-id-3 div.sk-parallel-item:first-child::after {align-self: flex-end;width: 50%;}#sk-container-id-3 div.sk-parallel-item:last-child::after {align-self: flex-start;width: 50%;}#sk-container-id-3 div.sk-parallel-item:only-child::after {width: 0;}#sk-container-id-3 div.sk-dashed-wrapped {border: 1px dashed gray;margin: 0 0.4em 0.5em 0.4em;box-sizing: border-box;padding-bottom: 0.4em;background-color: white;}#sk-container-id-3 div.sk-label label {font-family: monospace;font-weight: bold;display: inline-block;line-height: 1.2em;}#sk-container-id-3 div.sk-label-container {text-align: center;}#sk-container-id-3 div.sk-container {/* jupyter's `normalize.less` sets `[hidden] { display: none; }` but bootstrap.min.css set `[hidden] { display: none !important; }` so we also need the `!important` here to be able to override the default hidden behavior on the sphinx rendered scikit-learn.org. See: https://github.com/scikit-learn/scikit-learn/issues/21755 */display: inline-block !important;position: relative;}#sk-container-id-3 div.sk-text-repr-fallback {display: none;}</style><div id=\"sk-container-id-3\" class=\"sk-top-container\"><div class=\"sk-text-repr-fallback\"><pre>RandomizedSearchCV(cv=5, estimator=RandomForestRegressor(random_state=67),\n                   n_iter=2000, n_jobs=-1,\n                   param_distributions=[{&#x27;max_depth&#x27;: [None, 10, 20, 30, 40],\n                                         &#x27;max_features&#x27;: [1, 2, 4, 8, 16, 25,\n                                                          50, 100],\n                                         &#x27;min_samples_leaf&#x27;: [1, 2, 4, 6, 8],\n                                         &#x27;min_samples_split&#x27;: [2, 5, 10],\n                                         &#x27;n_estimators&#x27;: [10, 25, 50, 100,\n                                                          200]}],\n                   return_train_score=True, scoring=&#x27;neg_mean_squared_error&#x27;)</pre><b>In a Jupyter environment, please rerun this cell to show the HTML representation or trust the notebook. <br />On GitHub, the HTML representation is unable to render, please try loading this page with nbviewer.org.</b></div><div class=\"sk-container\" hidden><div class=\"sk-item sk-dashed-wrapped\"><div class=\"sk-label-container\"><div class=\"sk-label sk-toggleable\"><input class=\"sk-toggleable__control sk-hidden--visually\" id=\"sk-estimator-id-7\" type=\"checkbox\" ><label for=\"sk-estimator-id-7\" class=\"sk-toggleable__label sk-toggleable__label-arrow\">RandomizedSearchCV</label><div class=\"sk-toggleable__content\"><pre>RandomizedSearchCV(cv=5, estimator=RandomForestRegressor(random_state=67),\n                   n_iter=2000, n_jobs=-1,\n                   param_distributions=[{&#x27;max_depth&#x27;: [None, 10, 20, 30, 40],\n                                         &#x27;max_features&#x27;: [1, 2, 4, 8, 16, 25,\n                                                          50, 100],\n                                         &#x27;min_samples_leaf&#x27;: [1, 2, 4, 6, 8],\n                                         &#x27;min_samples_split&#x27;: [2, 5, 10],\n                                         &#x27;n_estimators&#x27;: [10, 25, 50, 100,\n                                                          200]}],\n                   return_train_score=True, scoring=&#x27;neg_mean_squared_error&#x27;)</pre></div></div></div><div class=\"sk-parallel\"><div class=\"sk-parallel-item\"><div class=\"sk-item\"><div class=\"sk-label-container\"><div class=\"sk-label sk-toggleable\"><input class=\"sk-toggleable__control sk-hidden--visually\" id=\"sk-estimator-id-8\" type=\"checkbox\" ><label for=\"sk-estimator-id-8\" class=\"sk-toggleable__label sk-toggleable__label-arrow\">estimator: RandomForestRegressor</label><div class=\"sk-toggleable__content\"><pre>RandomForestRegressor(random_state=67)</pre></div></div></div><div class=\"sk-serial\"><div class=\"sk-item\"><div class=\"sk-estimator sk-toggleable\"><input class=\"sk-toggleable__control sk-hidden--visually\" id=\"sk-estimator-id-9\" type=\"checkbox\" ><label for=\"sk-estimator-id-9\" class=\"sk-toggleable__label sk-toggleable__label-arrow\">RandomForestRegressor</label><div class=\"sk-toggleable__content\"><pre>RandomForestRegressor(random_state=67)</pre></div></div></div></div></div></div></div></div></div></div>"
     },
     "execution_count": 38,
     "metadata": {},
     "output_type": "execute_result"
    }
   ],
   "source": [
    "from sklearn.model_selection import RandomizedSearchCV\n",
    "\n",
    "param_grid = [{\n",
    "    'n_estimators': [10, 25 ,50, 100, 200, 300, 400, 500],\n",
    "    'max_features': [1, 2, 4, 8, 16, 25, 50, 100],\n",
    "    'max_depth': [None, 10, 20, 30, 40],\n",
    "    'min_samples_split': [2, 5, 10],\n",
    "    'min_samples_leaf': [1, 2, 4, 6, 8]\n",
    "}]\n",
    "\n",
    "rf = RandomForestRegressor(random_state=67)\n",
    "grid_search = RandomizedSearchCV(rf, param_grid, cv=5, n_iter=4000,\n",
    "                           scoring='neg_mean_squared_error',\n",
    "                           return_train_score=True, n_jobs=-1)\n",
    "grid_search.fit(X_train, y_train)"
   ],
   "metadata": {
    "collapsed": false
   }
  },
  {
   "cell_type": "code",
   "execution_count": 39,
   "outputs": [
    {
     "data": {
      "text/plain": "{'n_estimators': 200,\n 'min_samples_split': 10,\n 'min_samples_leaf': 1,\n 'max_features': 16,\n 'max_depth': 30}"
     },
     "execution_count": 39,
     "metadata": {},
     "output_type": "execute_result"
    }
   ],
   "source": [
    "grid_search.best_params_"
   ],
   "metadata": {
    "collapsed": false
   }
  },
  {
   "cell_type": "code",
   "execution_count": 95,
   "outputs": [
    {
     "data": {
      "text/plain": "0.09647079429873397"
     },
     "execution_count": 95,
     "metadata": {},
     "output_type": "execute_result"
    }
   ],
   "source": [
    "from sklearn.metrics import mean_squared_error\n",
    "\n",
    "final_model = grid_search.best_estimator_\n",
    "\n",
    "final_predictions = final_model.predict(holdout_X)\n",
    "\n",
    "final_mse = mean_squared_error(holdout_y, final_predictions)\n",
    "final_rmse = np.sqrt(final_mse)\n",
    "final_rmse"
   ],
   "metadata": {
    "collapsed": false
   }
  },
  {
   "cell_type": "code",
   "execution_count": 96,
   "outputs": [
    {
     "data": {
      "text/plain": "array([-0.55594493, -0.18089776, -0.33323201, -0.35450044,  0.22610415,\n       -0.06828888, -0.21842949,  0.49420996,  0.30390189,  0.179006  ,\n        0.12237892,  0.40862844,  0.38734337,  0.10533348, -0.03021002,\n        0.18806483,  0.07434684,  0.18675473,  0.11075443,  0.37544466,\n        0.1950287 ,  0.34603494,  0.07686019,  0.07826626,  0.44218177,\n        0.11380454,  0.09865849,  0.11450355,  0.19548497,  0.50714182,\n       -0.19371465,  0.17521294,  0.22503494,  0.21306724,  0.22408498,\n        0.1796244 ,  0.1015523 ,  0.20826245, -0.27484745,  0.17668264,\n       -0.28369218, -0.28824025,  0.18053349, -0.20520147, -0.07467825,\n        0.05577566,  0.35314834,  0.1875934 , -0.29119685, -0.25730066,\n       -0.22033491,  0.52631485,  0.4188868 , -0.27699021,  0.46867658,\n        0.43120368,  0.11487028,  0.41096317,  0.22850847, -0.27536921,\n        0.10761159, -0.17262382, -0.32154074, -0.3065504 ,  0.12769577,\n       -0.28877336, -0.36596697, -0.38129928, -0.35831457, -0.56805616,\n       -0.50728872, -0.37696413,  0.27783859,  0.46927822,  0.26008317,\n        0.22774671, -0.27864608,  0.28754682,  0.30390554,  0.35605451,\n        0.22631788,  0.51581971,  0.4344641 ,  0.25340526,  0.12242796,\n       -0.16532322, -0.09462814, -0.03792415,  0.15596651,  0.30278462,\n        0.18973602,  0.32454685,  0.47943429, -0.17917567, -0.31562538,\n        0.21568491, -0.50539959, -0.40202344,  0.27637123, -0.36569238,\n       -0.29841467, -0.25855315, -0.17161292, -0.20235841, -0.15949823,\n       -0.304595  , -0.56358384,  0.11957306,  0.15665795,  0.24700694,\n       -0.14281001,  0.13707053, -0.30380587,  0.0983415 ,  0.21606372,\n        0.45520723,  0.63585508,  0.14047552,  0.33263161, -0.24692837,\n        0.1067922 ,  0.09003913,  0.44293052,  0.5127093 ,  0.48653725,\n        0.49552092,  0.23464121, -0.19998933, -0.04455094,  0.18635043,\n        0.40223058, -0.32297035,  0.38456938, -0.33740329, -0.30670328,\n       -0.33359964, -0.35861942, -0.28154239, -0.26788566, -0.25070196,\n       -0.30451594, -0.48820727, -0.37400651,  0.27181807,  0.51879885,\n       -0.14218038,  0.54257466,  0.20204174,  0.18303616,  0.2238185 ,\n       -0.16998449, -0.2792146 , -0.29447162, -0.2415446 ,  0.34540829,\n       -0.39425699, -0.43473272, -0.4249545 , -0.42498082, -0.32072018,\n        0.53577998, -0.26912027, -0.31238711, -0.16573808,  0.28723064,\n       -0.26850376,  0.48671232,  0.31328876, -0.27823777,  0.21928749,\n        0.45138789,  0.16812268,  0.4663128 ,  0.03753107, -0.43619302,\n       -0.2873913 , -0.4016966 , -0.16792798,  0.42845026,  0.10178532,\n        0.45213355,  0.13183401,  0.35023807,  0.20520782, -0.19222154,\n        0.22309076,  0.55185781,  0.1083416 ,  0.46490216, -0.18890781,\n        0.40011074, -0.19895225, -0.26979549])"
     },
     "execution_count": 96,
     "metadata": {},
     "output_type": "execute_result"
    }
   ],
   "source": [
    "final_predictions"
   ],
   "metadata": {
    "collapsed": false
   }
  },
  {
   "cell_type": "code",
   "execution_count": 103,
   "outputs": [
    {
     "data": {
      "text/plain": "            0\n0   -0.555945\n1   -0.180898\n2   -0.333232\n3   -0.354500\n4    0.226104\n..        ...\n188  0.464902\n189 -0.188908\n190  0.400111\n191 -0.198952\n192 -0.269795\n\n[193 rows x 1 columns]",
      "text/html": "<div>\n<style scoped>\n    .dataframe tbody tr th:only-of-type {\n        vertical-align: middle;\n    }\n\n    .dataframe tbody tr th {\n        vertical-align: top;\n    }\n\n    .dataframe thead th {\n        text-align: right;\n    }\n</style>\n<table border=\"1\" class=\"dataframe\">\n  <thead>\n    <tr style=\"text-align: right;\">\n      <th></th>\n      <th>0</th>\n    </tr>\n  </thead>\n  <tbody>\n    <tr>\n      <th>0</th>\n      <td>-0.555945</td>\n    </tr>\n    <tr>\n      <th>1</th>\n      <td>-0.180898</td>\n    </tr>\n    <tr>\n      <th>2</th>\n      <td>-0.333232</td>\n    </tr>\n    <tr>\n      <th>3</th>\n      <td>-0.354500</td>\n    </tr>\n    <tr>\n      <th>4</th>\n      <td>0.226104</td>\n    </tr>\n    <tr>\n      <th>...</th>\n      <td>...</td>\n    </tr>\n    <tr>\n      <th>188</th>\n      <td>0.464902</td>\n    </tr>\n    <tr>\n      <th>189</th>\n      <td>-0.188908</td>\n    </tr>\n    <tr>\n      <th>190</th>\n      <td>0.400111</td>\n    </tr>\n    <tr>\n      <th>191</th>\n      <td>-0.198952</td>\n    </tr>\n    <tr>\n      <th>192</th>\n      <td>-0.269795</td>\n    </tr>\n  </tbody>\n</table>\n<p>193 rows × 1 columns</p>\n</div>"
     },
     "execution_count": 103,
     "metadata": {},
     "output_type": "execute_result"
    }
   ],
   "source": [
    "pred_df = pd.DataFrame(final_predictions)\n",
    "pred_df"
   ],
   "metadata": {
    "collapsed": false
   }
  },
  {
   "cell_type": "code",
   "execution_count": 104,
   "outputs": [
    {
     "data": {
      "text/plain": "     dem_margin\n0     -0.720991\n1     -0.260102\n2     -0.318882\n3     -0.461098\n4      0.539603\n..          ...\n188    0.434942\n189   -0.089752\n190    0.450179\n191   -0.237642\n192   -0.396807\n\n[193 rows x 1 columns]",
      "text/html": "<div>\n<style scoped>\n    .dataframe tbody tr th:only-of-type {\n        vertical-align: middle;\n    }\n\n    .dataframe tbody tr th {\n        vertical-align: top;\n    }\n\n    .dataframe thead th {\n        text-align: right;\n    }\n</style>\n<table border=\"1\" class=\"dataframe\">\n  <thead>\n    <tr style=\"text-align: right;\">\n      <th></th>\n      <th>dem_margin</th>\n    </tr>\n  </thead>\n  <tbody>\n    <tr>\n      <th>0</th>\n      <td>-0.720991</td>\n    </tr>\n    <tr>\n      <th>1</th>\n      <td>-0.260102</td>\n    </tr>\n    <tr>\n      <th>2</th>\n      <td>-0.318882</td>\n    </tr>\n    <tr>\n      <th>3</th>\n      <td>-0.461098</td>\n    </tr>\n    <tr>\n      <th>4</th>\n      <td>0.539603</td>\n    </tr>\n    <tr>\n      <th>...</th>\n      <td>...</td>\n    </tr>\n    <tr>\n      <th>188</th>\n      <td>0.434942</td>\n    </tr>\n    <tr>\n      <th>189</th>\n      <td>-0.089752</td>\n    </tr>\n    <tr>\n      <th>190</th>\n      <td>0.450179</td>\n    </tr>\n    <tr>\n      <th>191</th>\n      <td>-0.237642</td>\n    </tr>\n    <tr>\n      <th>192</th>\n      <td>-0.396807</td>\n    </tr>\n  </tbody>\n</table>\n<p>193 rows × 1 columns</p>\n</div>"
     },
     "execution_count": 104,
     "metadata": {},
     "output_type": "execute_result"
    }
   ],
   "source": [
    "reindexed = holdout_y.reset_index().drop(columns=['index'])\n",
    "reindexed"
   ],
   "metadata": {
    "collapsed": false
   }
  },
  {
   "cell_type": "code",
   "execution_count": 117,
   "outputs": [
    {
     "data": {
      "text/plain": "     dem_margin  predictions\n0     -0.720991    -0.555945\n1     -0.260102    -0.180898\n2     -0.318882    -0.333232\n3     -0.461098    -0.354500\n4      0.539603     0.226104\n..          ...          ...\n188    0.434942     0.464902\n189   -0.089752    -0.188908\n190    0.450179     0.400111\n191   -0.237642    -0.198952\n192   -0.396807    -0.269795\n\n[193 rows x 2 columns]",
      "text/html": "<div>\n<style scoped>\n    .dataframe tbody tr th:only-of-type {\n        vertical-align: middle;\n    }\n\n    .dataframe tbody tr th {\n        vertical-align: top;\n    }\n\n    .dataframe thead th {\n        text-align: right;\n    }\n</style>\n<table border=\"1\" class=\"dataframe\">\n  <thead>\n    <tr style=\"text-align: right;\">\n      <th></th>\n      <th>dem_margin</th>\n      <th>predictions</th>\n    </tr>\n  </thead>\n  <tbody>\n    <tr>\n      <th>0</th>\n      <td>-0.720991</td>\n      <td>-0.555945</td>\n    </tr>\n    <tr>\n      <th>1</th>\n      <td>-0.260102</td>\n      <td>-0.180898</td>\n    </tr>\n    <tr>\n      <th>2</th>\n      <td>-0.318882</td>\n      <td>-0.333232</td>\n    </tr>\n    <tr>\n      <th>3</th>\n      <td>-0.461098</td>\n      <td>-0.354500</td>\n    </tr>\n    <tr>\n      <th>4</th>\n      <td>0.539603</td>\n      <td>0.226104</td>\n    </tr>\n    <tr>\n      <th>...</th>\n      <td>...</td>\n      <td>...</td>\n    </tr>\n    <tr>\n      <th>188</th>\n      <td>0.434942</td>\n      <td>0.464902</td>\n    </tr>\n    <tr>\n      <th>189</th>\n      <td>-0.089752</td>\n      <td>-0.188908</td>\n    </tr>\n    <tr>\n      <th>190</th>\n      <td>0.450179</td>\n      <td>0.400111</td>\n    </tr>\n    <tr>\n      <th>191</th>\n      <td>-0.237642</td>\n      <td>-0.198952</td>\n    </tr>\n    <tr>\n      <th>192</th>\n      <td>-0.396807</td>\n      <td>-0.269795</td>\n    </tr>\n  </tbody>\n</table>\n<p>193 rows × 2 columns</p>\n</div>"
     },
     "execution_count": 117,
     "metadata": {},
     "output_type": "execute_result"
    }
   ],
   "source": [
    "merged = reindexed.merge(pred_df, left_index=True, right_index=True)\n",
    "merged['predictions'] = merged[0]\n",
    "merged = merged.drop(columns=[0])\n",
    "merged"
   ],
   "metadata": {
    "collapsed": false
   }
  },
  {
   "cell_type": "code",
   "execution_count": 119,
   "outputs": [
    {
     "data": {
      "text/plain": "     dem_margin  predictions  mispredicted\n0     -0.720991    -0.555945         False\n1     -0.260102    -0.180898         False\n2     -0.318882    -0.333232         False\n3     -0.461098    -0.354500         False\n4      0.539603     0.226104         False\n..          ...          ...           ...\n188    0.434942     0.464902         False\n189   -0.089752    -0.188908         False\n190    0.450179     0.400111         False\n191   -0.237642    -0.198952         False\n192   -0.396807    -0.269795         False\n\n[193 rows x 3 columns]",
      "text/html": "<div>\n<style scoped>\n    .dataframe tbody tr th:only-of-type {\n        vertical-align: middle;\n    }\n\n    .dataframe tbody tr th {\n        vertical-align: top;\n    }\n\n    .dataframe thead th {\n        text-align: right;\n    }\n</style>\n<table border=\"1\" class=\"dataframe\">\n  <thead>\n    <tr style=\"text-align: right;\">\n      <th></th>\n      <th>dem_margin</th>\n      <th>predictions</th>\n      <th>mispredicted</th>\n    </tr>\n  </thead>\n  <tbody>\n    <tr>\n      <th>0</th>\n      <td>-0.720991</td>\n      <td>-0.555945</td>\n      <td>False</td>\n    </tr>\n    <tr>\n      <th>1</th>\n      <td>-0.260102</td>\n      <td>-0.180898</td>\n      <td>False</td>\n    </tr>\n    <tr>\n      <th>2</th>\n      <td>-0.318882</td>\n      <td>-0.333232</td>\n      <td>False</td>\n    </tr>\n    <tr>\n      <th>3</th>\n      <td>-0.461098</td>\n      <td>-0.354500</td>\n      <td>False</td>\n    </tr>\n    <tr>\n      <th>4</th>\n      <td>0.539603</td>\n      <td>0.226104</td>\n      <td>False</td>\n    </tr>\n    <tr>\n      <th>...</th>\n      <td>...</td>\n      <td>...</td>\n      <td>...</td>\n    </tr>\n    <tr>\n      <th>188</th>\n      <td>0.434942</td>\n      <td>0.464902</td>\n      <td>False</td>\n    </tr>\n    <tr>\n      <th>189</th>\n      <td>-0.089752</td>\n      <td>-0.188908</td>\n      <td>False</td>\n    </tr>\n    <tr>\n      <th>190</th>\n      <td>0.450179</td>\n      <td>0.400111</td>\n      <td>False</td>\n    </tr>\n    <tr>\n      <th>191</th>\n      <td>-0.237642</td>\n      <td>-0.198952</td>\n      <td>False</td>\n    </tr>\n    <tr>\n      <th>192</th>\n      <td>-0.396807</td>\n      <td>-0.269795</td>\n      <td>False</td>\n    </tr>\n  </tbody>\n</table>\n<p>193 rows × 3 columns</p>\n</div>"
     },
     "execution_count": 119,
     "metadata": {},
     "output_type": "execute_result"
    }
   ],
   "source": [
    "merged['mispredicted'] = ((merged['dem_margin'] > 0) & (merged[\"predictions\"] <= 0)) | ((merged['dem_margin'] < 0) & (merged[\"predictions\"] >= 0))\n",
    "merged"
   ],
   "metadata": {
    "collapsed": false
   }
  },
  {
   "cell_type": "code",
   "execution_count": 120,
   "outputs": [
    {
     "data": {
      "text/plain": "    dem_margin  predictions  mispredicted\n5     0.122127    -0.068289          True\n18   -0.064789     0.110754          True\n23   -0.046907     0.078266          True\n87    0.055236    -0.037924          True",
      "text/html": "<div>\n<style scoped>\n    .dataframe tbody tr th:only-of-type {\n        vertical-align: middle;\n    }\n\n    .dataframe tbody tr th {\n        vertical-align: top;\n    }\n\n    .dataframe thead th {\n        text-align: right;\n    }\n</style>\n<table border=\"1\" class=\"dataframe\">\n  <thead>\n    <tr style=\"text-align: right;\">\n      <th></th>\n      <th>dem_margin</th>\n      <th>predictions</th>\n      <th>mispredicted</th>\n    </tr>\n  </thead>\n  <tbody>\n    <tr>\n      <th>5</th>\n      <td>0.122127</td>\n      <td>-0.068289</td>\n      <td>True</td>\n    </tr>\n    <tr>\n      <th>18</th>\n      <td>-0.064789</td>\n      <td>0.110754</td>\n      <td>True</td>\n    </tr>\n    <tr>\n      <th>23</th>\n      <td>-0.046907</td>\n      <td>0.078266</td>\n      <td>True</td>\n    </tr>\n    <tr>\n      <th>87</th>\n      <td>0.055236</td>\n      <td>-0.037924</td>\n      <td>True</td>\n    </tr>\n  </tbody>\n</table>\n</div>"
     },
     "execution_count": 120,
     "metadata": {},
     "output_type": "execute_result"
    }
   ],
   "source": [
    "merged[merged['mispredicted']]"
   ],
   "metadata": {
    "collapsed": false
   }
  },
  {
   "cell_type": "code",
   "execution_count": 122,
   "outputs": [],
   "source": [
    "import pickle\n",
    "with open(\"../SRC/elections_model.pkl\", \"wb\") as f:\n",
    "    pickle.dump(final_model, f)"
   ],
   "metadata": {
    "collapsed": false
   }
  }
 ],
 "metadata": {
  "kernelspec": {
   "display_name": "Python 3",
   "language": "python",
   "name": "python3"
  },
  "language_info": {
   "codemirror_mode": {
    "name": "ipython",
    "version": 2
   },
   "file_extension": ".py",
   "mimetype": "text/x-python",
   "name": "python",
   "nbconvert_exporter": "python",
   "pygments_lexer": "ipython2",
   "version": "2.7.6"
  }
 },
 "nbformat": 4,
 "nbformat_minor": 0
}
